{
  "nbformat": 4,
  "nbformat_minor": 0,
  "metadata": {
    "colab": {
      "provenance": [],
      "gpuType": "T4"
    },
    "kernelspec": {
      "name": "python3",
      "display_name": "Python 3"
    },
    "language_info": {
      "name": "python"
    },
    "accelerator": "GPU"
  },
  "cells": [
    {
      "cell_type": "code",
      "execution_count": null,
      "metadata": {
        "id": "-W0KNzwpM0uz"
      },
      "outputs": [],
      "source": [
        "import pandas as pd"
      ]
    },
    {
      "cell_type": "code",
      "source": [
        "from google.colab import drive\n",
        "drive.mount('/content/drive')"
      ],
      "metadata": {
        "colab": {
          "base_uri": "https://localhost:8080/"
        },
        "id": "QMfYglzlRDLK",
        "outputId": "c03e3abf-e805-4c49-cfbf-76e91b641214"
      },
      "execution_count": null,
      "outputs": [
        {
          "output_type": "stream",
          "name": "stdout",
          "text": [
            "Drive already mounted at /content/drive; to attempt to forcibly remount, call drive.mount(\"/content/drive\", force_remount=True).\n"
          ]
        }
      ]
    },
    {
      "cell_type": "code",
      "source": [
        "file_path = \"/content/drive/MyDrive/CSV/FE.csv\"  # Replace with the actual file path\n",
        "df = pd.read_csv(file_path, encoding='cp1252')\n",
        "\n",
        "print(df.head(10))"
      ],
      "metadata": {
        "colab": {
          "base_uri": "https://localhost:8080/"
        },
        "id": "4kh_9gkGNPNm",
        "outputId": "7f7c06eb-35ba-447d-ea23-d2042f513320"
      },
      "execution_count": null,
      "outputs": [
        {
          "output_type": "stream",
          "name": "stdout",
          "text": [
            "                        Name              Scientific Name Conservation Status  \\\n",
            "0          Red-vented Bulbul             Pycnonotus cafer       Least Concern   \n",
            "1      Blue-tailed Bee-eater         \\tMerops philippinus     \\tLeast Concern   \n",
            "2  White-throated Kingfisher           Halcyon smyrnensis       Least Concern   \n",
            "3       Gray-headed Swamphen      Porphyrio poliocephalus             Unknown   \n",
            "4    White-breasted Waterhen       Amaurornis phoenicurus       Least Concern   \n",
            "5        Red-wattled Lapwing             Vanellus indicus       Least Concern   \n",
            "6           Little Cormorant             Microcarbo niger       Least Concern   \n",
            "7          Black-headed Ibis  Threskiornis melanocephalus     Near Threatened   \n",
            "8          Indian Pond-Heron               Ardeola grayii       Least Concern   \n",
            "9               Little Egret             Egretta garzetta             Unknown   \n",
            "\n",
            "                                               Color  \\\n",
            "0      Dark, black crest, white rump, red under tail   \n",
            "1  Green, blue tail, black mask, rufous throat, r...   \n",
            "2  Brown, electric-blue back and wings, red bill,...   \n",
            "3  Bluish-purple, red bill, red legs, white “unde...   \n",
            "4  Dark slaty above, white below, rusty patch und...   \n",
            "5  Black breast and throat, red bill with black t...   \n",
            "6  All black, with white plumes on the sides of t...   \n",
            "7  White body, black head and neck, grayish tail ...   \n",
            "8  Dark reddish brown back (breeding), yellowish ...   \n",
            "9  Snow-white, dark bill, blackish legs, yellowis...   \n",
            "\n",
            "                                Distinctive Features  \\\n",
            "0       Black crest, white rump, red vent under tail   \n",
            "1  Thin black mask, rufous throat, elongated cent...   \n",
            "2  Large head, electric-blue back and wings, heav...   \n",
            "3  Red bill and forehead shield, red legs and fee...   \n",
            "4  Chickenlike appearance, rusty patch under the ...   \n",
            "5  Red wattles in front of the eyes, red bill wit...   \n",
            "6  Flat head, sharply hooked bill, small size com...   \n",
            "7   Bare black head and neck, down-curved black bill   \n",
            "8  Dark reddish brown back, yellowish head, neck,...   \n",
            "9  Wispy head plumes and white plumes on the lowe...   \n",
            "\n",
            "                                             Size  \\\n",
            "0                                  \\tMedium-sized   \n",
            "1                                         Unknown   \n",
            "2                                         Unknown   \n",
            "3                                      Very large   \n",
            "4                                    Medium-sized   \n",
            "5                                         Unknown   \n",
            "6  Smallest of the cormorants found in the region   \n",
            "7                                           Large   \n",
            "8                                           Small   \n",
            "9                                           Small   \n",
            "\n",
            "                                             Habitat  \\\n",
            "0  Often seen high in trees or perched on wires i...   \n",
            "1                                       Open country   \n",
            "2  Near wetlands, lakes, agricultural fields, and...   \n",
            "3  Marshy, vegetated freshwater bodies such as sw...   \n",
            "4  Meadows, ditches, riversides, marshes, parks, ...   \n",
            "5  Found around water bodies, agricultural fields...   \n",
            "6                                Inland water bodies   \n",
            "7  Wetlands, agricultural fields, coastal areas, ...   \n",
            "8    Aquatic habitats across the Indian subcontinent   \n",
            "9        Wetlands, lakes, rivers, marshes, estuaries   \n",
            "\n",
            "                                            Behavior  \\\n",
            "0               Conspicuous and sometimes gregarious   \n",
            "1  Frequently seen in flight or perched on expose...   \n",
            "2  Frequently seen perched on fence posts and tel...   \n",
            "3  Often clumsy, feeds at muddy water edges, in r...   \n",
            "4  Often seen foraging in the open; often found i...   \n",
            "5  Usually found in small groups; runs a short di...   \n",
            "6  Frequently seen swimming with its body low in ...   \n",
            "7  Probes into mud and shallow water with its lon...   \n",
            "8  Solitary, but large numbers gather where food ...   \n",
            "9  Occurs as singles or in small loose groups; ne...   \n",
            "\n",
            "                                   Diet  \\\n",
            "0  Eats fruit, flower buds, and insects   \n",
            "1                               Unknown   \n",
            "2                               Unknown   \n",
            "3                               Unknown   \n",
            "4                               Unknown   \n",
            "5                     Primarily insects   \n",
            "6                                  Fish   \n",
            "7                               Unknown   \n",
            "8                               Unknown   \n",
            "9                            Small fish   \n",
            "\n",
            "                                               Calls  \\\n",
            "0     Calls include a variety of chirps and whistles   \n",
            "1  Voice a sweet, clipped “cheer-it,” sometimes g...   \n",
            "2  Jarring, raptor-like descending trills and cac...   \n",
            "3       Makes short nasal grunts and croaking sounds   \n",
            "4  Remarkably variable song, a series of hooting,...   \n",
            "5  Known for its characteristic loud alarm call, ...   \n",
            "6                           No information available   \n",
            "7                           No information available   \n",
            "8                           No information available   \n",
            "9                           No information available   \n",
            "\n",
            "                                               Range  \n",
            "0  Native to South and Southeast Asia. Introduced...  \n",
            "1                                            Unknown  \n",
            "2                                            Unknown  \n",
            "3                                            Unknown  \n",
            "4                                            Unknown  \n",
            "5                                            Unknown  \n",
            "6                                            Unknown  \n",
            "7                                            Unknown  \n",
            "8                                            Unknown  \n",
            "9                                            Unknown  \n"
          ]
        }
      ]
    },
    {
      "cell_type": "code",
      "source": [
        "# Remove extra spaces, including tab spaces, from column names\n",
        "df.columns = df.columns.str.strip()\n",
        "\n",
        "# Display cleaned column names\n",
        "print(df.columns)"
      ],
      "metadata": {
        "colab": {
          "base_uri": "https://localhost:8080/"
        },
        "id": "5LFgkVz9cYLP",
        "outputId": "d1ea3e13-e093-4a1b-e955-fff63f88fa70"
      },
      "execution_count": null,
      "outputs": [
        {
          "output_type": "stream",
          "name": "stdout",
          "text": [
            "Index(['Name', 'Scientific Name', 'Conservation Status', 'Color',\n",
            "       'Distinctive Features', 'Size', 'Habitat', 'Behavior', 'Diet', 'Calls',\n",
            "       'Range'],\n",
            "      dtype='object')\n"
          ]
        }
      ]
    },
    {
      "cell_type": "code",
      "source": [
        "# Strip tab spaces or any leading/trailing spaces from all string values in the DataFrame\n",
        "df = df.applymap(lambda x: x.strip() if isinstance(x, str) else x)\n",
        "\n",
        "# Display the first 5 rows to confirm changes\n",
        "print(df.head())"
      ],
      "metadata": {
        "colab": {
          "base_uri": "https://localhost:8080/"
        },
        "id": "CU6h1WvxcY7n",
        "outputId": "cb181587-94c4-4e5b-ff92-a9ae2eaae88f"
      },
      "execution_count": null,
      "outputs": [
        {
          "output_type": "stream",
          "name": "stdout",
          "text": [
            "                        Name          Scientific Name Conservation Status  \\\n",
            "0          Red-vented Bulbul         Pycnonotus cafer       Least Concern   \n",
            "1      Blue-tailed Bee-eater       Merops philippinus       Least Concern   \n",
            "2  White-throated Kingfisher       Halcyon smyrnensis       Least Concern   \n",
            "3       Gray-headed Swamphen  Porphyrio poliocephalus             Unknown   \n",
            "4    White-breasted Waterhen   Amaurornis phoenicurus       Least Concern   \n",
            "\n",
            "                                               Color  \\\n",
            "0      Dark, black crest, white rump, red under tail   \n",
            "1  Green, blue tail, black mask, rufous throat, r...   \n",
            "2  Brown, electric-blue back and wings, red bill,...   \n",
            "3  Bluish-purple, red bill, red legs, white “unde...   \n",
            "4  Dark slaty above, white below, rusty patch und...   \n",
            "\n",
            "                                Distinctive Features          Size  \\\n",
            "0       Black crest, white rump, red vent under tail  Medium-sized   \n",
            "1  Thin black mask, rufous throat, elongated cent...       Unknown   \n",
            "2  Large head, electric-blue back and wings, heav...       Unknown   \n",
            "3  Red bill and forehead shield, red legs and fee...    Very large   \n",
            "4  Chickenlike appearance, rusty patch under the ...  Medium-sized   \n",
            "\n",
            "                                             Habitat  \\\n",
            "0  Often seen high in trees or perched on wires i...   \n",
            "1                                       Open country   \n",
            "2  Near wetlands, lakes, agricultural fields, and...   \n",
            "3  Marshy, vegetated freshwater bodies such as sw...   \n",
            "4  Meadows, ditches, riversides, marshes, parks, ...   \n",
            "\n",
            "                                            Behavior  \\\n",
            "0               Conspicuous and sometimes gregarious   \n",
            "1  Frequently seen in flight or perched on expose...   \n",
            "2  Frequently seen perched on fence posts and tel...   \n",
            "3  Often clumsy, feeds at muddy water edges, in r...   \n",
            "4  Often seen foraging in the open; often found i...   \n",
            "\n",
            "                                   Diet  \\\n",
            "0  Eats fruit, flower buds, and insects   \n",
            "1                               Unknown   \n",
            "2                               Unknown   \n",
            "3                               Unknown   \n",
            "4                               Unknown   \n",
            "\n",
            "                                               Calls  \\\n",
            "0     Calls include a variety of chirps and whistles   \n",
            "1  Voice a sweet, clipped “cheer-it,” sometimes g...   \n",
            "2  Jarring, raptor-like descending trills and cac...   \n",
            "3       Makes short nasal grunts and croaking sounds   \n",
            "4  Remarkably variable song, a series of hooting,...   \n",
            "\n",
            "                                               Range  \n",
            "0  Native to South and Southeast Asia. Introduced...  \n",
            "1                                            Unknown  \n",
            "2                                            Unknown  \n",
            "3                                            Unknown  \n",
            "4                                            Unknown  \n"
          ]
        },
        {
          "output_type": "stream",
          "name": "stderr",
          "text": [
            "<ipython-input-7-9e980cc7277d>:2: FutureWarning: DataFrame.applymap has been deprecated. Use DataFrame.map instead.\n",
            "  df = df.applymap(lambda x: x.strip() if isinstance(x, str) else x)\n"
          ]
        }
      ]
    },
    {
      "cell_type": "code",
      "source": [
        "print(df.columns)"
      ],
      "metadata": {
        "colab": {
          "base_uri": "https://localhost:8080/"
        },
        "id": "eArbXcFhWdyi",
        "outputId": "f71d8159-fa5a-4cca-9f6c-663c43951f60"
      },
      "execution_count": null,
      "outputs": [
        {
          "output_type": "stream",
          "name": "stdout",
          "text": [
            "Index(['Name', 'Scientific Name', 'Conservation Status', 'Color',\n",
            "       'Distinctive Features', 'Size', 'Habitat', 'Behavior', 'Diet', 'Calls',\n",
            "       'Range'],\n",
            "      dtype='object')\n"
          ]
        }
      ]
    },
    {
      "cell_type": "code",
      "source": [
        "# columns_to_drop = [\"Name\", \"Distinctive Features\", \"Calls\"]\n",
        "# df = df.drop(columns=columns_to_drop)"
      ],
      "metadata": {
        "id": "ChWxy21sWl7v"
      },
      "execution_count": null,
      "outputs": []
    },
    {
      "cell_type": "code",
      "source": [
        "print(df.columns)"
      ],
      "metadata": {
        "colab": {
          "base_uri": "https://localhost:8080/"
        },
        "id": "RBWk479EWovQ",
        "outputId": "a7f11937-7195-49f1-966b-ea055432e61f"
      },
      "execution_count": null,
      "outputs": [
        {
          "output_type": "stream",
          "name": "stdout",
          "text": [
            "Index(['Name', 'Scientific Name', 'Conservation Status', 'Color',\n",
            "       'Distinctive Features', 'Size', 'Habitat', 'Behavior', 'Diet', 'Calls',\n",
            "       'Range'],\n",
            "      dtype='object')\n"
          ]
        }
      ]
    },
    {
      "cell_type": "code",
      "source": [
        "\n",
        "columns_to_drop = [\"Scientific Name\"]\n",
        "df = df.drop(columns=columns_to_drop)"
      ],
      "metadata": {
        "id": "3su-_C0qW9Xd"
      },
      "execution_count": null,
      "outputs": []
    },
    {
      "cell_type": "code",
      "source": [
        "print(df.columns)"
      ],
      "metadata": {
        "colab": {
          "base_uri": "https://localhost:8080/"
        },
        "id": "h5nxAE5FXICN",
        "outputId": "6fa9438a-fe37-413a-9575-c8f86a975405"
      },
      "execution_count": null,
      "outputs": [
        {
          "output_type": "stream",
          "name": "stdout",
          "text": [
            "Index(['Name', 'Conservation Status', 'Color', 'Distinctive Features', 'Size',\n",
            "       'Habitat', 'Behavior', 'Diet', 'Calls', 'Range'],\n",
            "      dtype='object')\n"
          ]
        }
      ]
    },
    {
      "cell_type": "code",
      "source": [
        "size_mapping = {\"Small\": 0, \"Medium-sized\": 1, \"Large\": 2, \"Unknown\": -1, \"Very large\":3 }\n",
        "df[\"Size\"] = df[\"Size\"].map(size_mapping)"
      ],
      "metadata": {
        "id": "GsybmIIdXfp-"
      },
      "execution_count": null,
      "outputs": []
    },
    {
      "cell_type": "code",
      "source": [
        "print(df['Size'].head(25))"
      ],
      "metadata": {
        "colab": {
          "base_uri": "https://localhost:8080/"
        },
        "id": "7ZLbXd__XqeX",
        "outputId": "8b172ea4-d024-4dbf-f92a-e1d66e7f7f27"
      },
      "execution_count": null,
      "outputs": [
        {
          "output_type": "stream",
          "name": "stdout",
          "text": [
            "0     1.0\n",
            "1    -1.0\n",
            "2    -1.0\n",
            "3     3.0\n",
            "4     1.0\n",
            "5    -1.0\n",
            "6     NaN\n",
            "7     2.0\n",
            "8     0.0\n",
            "9     0.0\n",
            "10    2.0\n",
            "11    1.0\n",
            "12   -1.0\n",
            "13   -1.0\n",
            "14   -1.0\n",
            "15    2.0\n",
            "16   -1.0\n",
            "17   -1.0\n",
            "18    0.0\n",
            "19    1.0\n",
            "20   -1.0\n",
            "21    2.0\n",
            "22    NaN\n",
            "23    0.0\n",
            "24    0.0\n",
            "Name: Size, dtype: float64\n"
          ]
        }
      ]
    },
    {
      "cell_type": "code",
      "source": [
        "df = pd.get_dummies(df, columns=[\"Conservation Status\", \"Habitat\", \"Behavior\", \"Diet\", \"Range\"], prefix=[\"Status\", \"Habitat\", \"Behavior\", \"Diet\", \"Range\"])"
      ],
      "metadata": {
        "id": "gZXYK-38aPK4"
      },
      "execution_count": null,
      "outputs": []
    },
    {
      "cell_type": "code",
      "source": [
        "print(df.head(10))"
      ],
      "metadata": {
        "colab": {
          "base_uri": "https://localhost:8080/"
        },
        "id": "NC88yk_OaTZf",
        "outputId": "0c69a421-9cb3-472f-cd5b-b8cc042ef483"
      },
      "execution_count": null,
      "outputs": [
        {
          "output_type": "stream",
          "name": "stdout",
          "text": [
            "                        Name  \\\n",
            "0          Red-vented Bulbul   \n",
            "1      Blue-tailed Bee-eater   \n",
            "2  White-throated Kingfisher   \n",
            "3       Gray-headed Swamphen   \n",
            "4    White-breasted Waterhen   \n",
            "5        Red-wattled Lapwing   \n",
            "6           Little Cormorant   \n",
            "7          Black-headed Ibis   \n",
            "8          Indian Pond-Heron   \n",
            "9               Little Egret   \n",
            "\n",
            "                                               Color  \\\n",
            "0      Dark, black crest, white rump, red under tail   \n",
            "1  Green, blue tail, black mask, rufous throat, r...   \n",
            "2  Brown, electric-blue back and wings, red bill,...   \n",
            "3  Bluish-purple, red bill, red legs, white “unde...   \n",
            "4  Dark slaty above, white below, rusty patch und...   \n",
            "5  Black breast and throat, red bill with black t...   \n",
            "6  All black, with white plumes on the sides of t...   \n",
            "7  White body, black head and neck, grayish tail ...   \n",
            "8  Dark reddish brown back (breeding), yellowish ...   \n",
            "9  Snow-white, dark bill, blackish legs, yellowis...   \n",
            "\n",
            "                                Distinctive Features  Size  \\\n",
            "0       Black crest, white rump, red vent under tail   1.0   \n",
            "1  Thin black mask, rufous throat, elongated cent...  -1.0   \n",
            "2  Large head, electric-blue back and wings, heav...  -1.0   \n",
            "3  Red bill and forehead shield, red legs and fee...   3.0   \n",
            "4  Chickenlike appearance, rusty patch under the ...   1.0   \n",
            "5  Red wattles in front of the eyes, red bill wit...  -1.0   \n",
            "6  Flat head, sharply hooked bill, small size com...   NaN   \n",
            "7   Bare black head and neck, down-curved black bill   2.0   \n",
            "8  Dark reddish brown back, yellowish head, neck,...   0.0   \n",
            "9  Wispy head plumes and white plumes on the lowe...   0.0   \n",
            "\n",
            "                                               Calls  Status_Least Concern  \\\n",
            "0     Calls include a variety of chirps and whistles                  True   \n",
            "1  Voice a sweet, clipped “cheer-it,” sometimes g...                  True   \n",
            "2  Jarring, raptor-like descending trills and cac...                  True   \n",
            "3       Makes short nasal grunts and croaking sounds                 False   \n",
            "4  Remarkably variable song, a series of hooting,...                  True   \n",
            "5  Known for its characteristic loud alarm call, ...                  True   \n",
            "6                           No information available                  True   \n",
            "7                           No information available                 False   \n",
            "8                           No information available                  True   \n",
            "9                           No information available                 False   \n",
            "\n",
            "   Status_Near Threatened  Status_Unknown  \\\n",
            "0                   False           False   \n",
            "1                   False           False   \n",
            "2                   False           False   \n",
            "3                   False            True   \n",
            "4                   False           False   \n",
            "5                   False           False   \n",
            "6                   False           False   \n",
            "7                    True           False   \n",
            "8                   False           False   \n",
            "9                   False            True   \n",
            "\n",
            "   Habitat_Aquatic habitats across the Indian subcontinent  \\\n",
            "0                                              False         \n",
            "1                                              False         \n",
            "2                                              False         \n",
            "3                                              False         \n",
            "4                                              False         \n",
            "5                                              False         \n",
            "6                                              False         \n",
            "7                                              False         \n",
            "8                                               True         \n",
            "9                                              False         \n",
            "\n",
            "   Habitat_Cliffs and caves from western Europe to central Asia; cities and farmland  \\\n",
            "0                                              False                                   \n",
            "1                                              False                                   \n",
            "2                                              False                                   \n",
            "3                                              False                                   \n",
            "4                                              False                                   \n",
            "5                                              False                                   \n",
            "6                                              False                                   \n",
            "7                                              False                                   \n",
            "8                                              False                                   \n",
            "9                                              False                                   \n",
            "\n",
            "   ...  Diet_Unknown  Range_Indian subcontinent  \\\n",
            "0  ...         False                      False   \n",
            "1  ...          True                      False   \n",
            "2  ...          True                      False   \n",
            "3  ...          True                      False   \n",
            "4  ...          True                      False   \n",
            "5  ...         False                      False   \n",
            "6  ...         False                      False   \n",
            "7  ...          True                      False   \n",
            "8  ...          True                      False   \n",
            "9  ...         False                      False   \n",
            "\n",
            "   Range_Much of Asia; introduced to several regions around the world  \\\n",
            "0                                              False                    \n",
            "1                                              False                    \n",
            "2                                              False                    \n",
            "3                                              False                    \n",
            "4                                              False                    \n",
            "5                                              False                    \n",
            "6                                              False                    \n",
            "7                                              False                    \n",
            "8                                              False                    \n",
            "9                                              False                    \n",
            "\n",
            "   Range_Native to Africa and South Asia, introduced worldwide, including Europe, the Caribbean, Japan, and Hawaii  \\\n",
            "0                                              False                                                                 \n",
            "1                                              False                                                                 \n",
            "2                                              False                                                                 \n",
            "3                                              False                                                                 \n",
            "4                                              False                                                                 \n",
            "5                                              False                                                                 \n",
            "6                                              False                                                                 \n",
            "7                                              False                                                                 \n",
            "8                                              False                                                                 \n",
            "9                                              False                                                                 \n",
            "\n",
            "   Range_Native to South and Southeast Asia. Introduced to Kuwait, Qatar, UAE, Oman, and some Polynesian islands, including Hawaii  \\\n",
            "0                                               True                                                                                 \n",
            "1                                              False                                                                                 \n",
            "2                                              False                                                                                 \n",
            "3                                              False                                                                                 \n",
            "4                                              False                                                                                 \n",
            "5                                              False                                                                                 \n",
            "6                                              False                                                                                 \n",
            "7                                              False                                                                                 \n",
            "8                                              False                                                                                 \n",
            "9                                              False                                                                                 \n",
            "\n",
            "   Range_South and Southeast Asia  Range_Southern India and Sri Lanka  \\\n",
            "0                           False                               False   \n",
            "1                           False                               False   \n",
            "2                           False                               False   \n",
            "3                           False                               False   \n",
            "4                           False                               False   \n",
            "5                           False                               False   \n",
            "6                           False                               False   \n",
            "7                           False                               False   \n",
            "8                           False                               False   \n",
            "9                           False                               False   \n",
            "\n",
            "   Range_Tropical Asia and coastal wetlands in Australia  Range_Unknown  \\\n",
            "0                                              False              False   \n",
            "1                                              False               True   \n",
            "2                                              False               True   \n",
            "3                                              False               True   \n",
            "4                                              False               True   \n",
            "5                                              False               True   \n",
            "6                                              False               True   \n",
            "7                                              False               True   \n",
            "8                                              False               True   \n",
            "9                                              False               True   \n",
            "\n",
            "   Range_Worldwide (wild and feral populations)  \n",
            "0                                         False  \n",
            "1                                         False  \n",
            "2                                         False  \n",
            "3                                         False  \n",
            "4                                         False  \n",
            "5                                         False  \n",
            "6                                         False  \n",
            "7                                         False  \n",
            "8                                         False  \n",
            "9                                         False  \n",
            "\n",
            "[10 rows x 74 columns]\n"
          ]
        }
      ]
    },
    {
      "cell_type": "code",
      "source": [
        "print(df[[\"Status_Least Concern\", \"Status_Near Threatened\", \"Status_Unknown\"]].head(25))"
      ],
      "metadata": {
        "colab": {
          "base_uri": "https://localhost:8080/"
        },
        "id": "HZXXzO1yaba-",
        "outputId": "4df48f51-64e1-41e7-aad5-a9f23538fc34"
      },
      "execution_count": null,
      "outputs": [
        {
          "output_type": "stream",
          "name": "stdout",
          "text": [
            "    Status_Least Concern  Status_Near Threatened  Status_Unknown\n",
            "0                   True                   False           False\n",
            "1                   True                   False           False\n",
            "2                   True                   False           False\n",
            "3                  False                   False            True\n",
            "4                   True                   False           False\n",
            "5                   True                   False           False\n",
            "6                   True                   False           False\n",
            "7                  False                    True           False\n",
            "8                   True                   False           False\n",
            "9                  False                   False            True\n",
            "10                  True                   False           False\n",
            "11                  True                   False           False\n",
            "12                  True                   False           False\n",
            "13                  True                   False           False\n",
            "14                 False                   False            True\n",
            "15                 False                   False            True\n",
            "16                  True                   False           False\n",
            "17                  True                   False           False\n",
            "18                  True                   False           False\n",
            "19                  True                   False           False\n",
            "20                  True                   False           False\n",
            "21                  True                   False           False\n",
            "22                  True                   False           False\n",
            "23                  True                   False           False\n",
            "24                  True                   False           False\n"
          ]
        }
      ]
    },
    {
      "cell_type": "code",
      "source": [
        "column_count = len(df.columns)\n",
        "print(\"Number of columns:\", column_count)"
      ],
      "metadata": {
        "colab": {
          "base_uri": "https://localhost:8080/"
        },
        "id": "fJeqKNxscvgt",
        "outputId": "ad8cdb35-76a9-4477-b9b0-c0c434f532fd"
      },
      "execution_count": null,
      "outputs": [
        {
          "output_type": "stream",
          "name": "stdout",
          "text": [
            "Number of columns: 74\n"
          ]
        }
      ]
    },
    {
      "cell_type": "code",
      "source": [
        "# # Save the final processed dataset\n",
        "# final_file_path = \"processed_dataset.csv\"\n",
        "# df.to_csv(final_file_path, index=False)\n",
        "\n",
        "# print(f\"Final dataset saved to {final_file_path}\")"
      ],
      "metadata": {
        "id": "ZBnQ9oaFu7mS"
      },
      "execution_count": null,
      "outputs": []
    },
    {
      "cell_type": "code",
      "source": [
        "from sklearn.model_selection import train_test_split\n",
        "\n",
        "# Split the data into training and testing sets\n",
        "X_train, X_test, y_train, y_test = train_test_split(X, y, test_size=0.2, random_state=42)\n",
        "\n",
        "# Print the sizes\n",
        "print(f\"Training set size: {X_train.shape[0]} rows\")\n",
        "print(f\"Testing set size: {X_test.shape[0]} rows\")"
      ],
      "metadata": {
        "colab": {
          "base_uri": "https://localhost:8080/",
          "height": 220
        },
        "id": "kVpJ58REAqni",
        "outputId": "46a9f797-8290-49ee-804a-dc94e732b3fb"
      },
      "execution_count": null,
      "outputs": [
        {
          "output_type": "error",
          "ename": "NameError",
          "evalue": "name 'X' is not defined",
          "traceback": [
            "\u001b[0;31m---------------------------------------------------------------------------\u001b[0m",
            "\u001b[0;31mNameError\u001b[0m                                 Traceback (most recent call last)",
            "\u001b[0;32m<ipython-input-22-429d2e768b52>\u001b[0m in \u001b[0;36m<cell line: 4>\u001b[0;34m()\u001b[0m\n\u001b[1;32m      2\u001b[0m \u001b[0;34m\u001b[0m\u001b[0m\n\u001b[1;32m      3\u001b[0m \u001b[0;31m# Split the data into training and testing sets\u001b[0m\u001b[0;34m\u001b[0m\u001b[0;34m\u001b[0m\u001b[0m\n\u001b[0;32m----> 4\u001b[0;31m \u001b[0mX_train\u001b[0m\u001b[0;34m,\u001b[0m \u001b[0mX_test\u001b[0m\u001b[0;34m,\u001b[0m \u001b[0my_train\u001b[0m\u001b[0;34m,\u001b[0m \u001b[0my_test\u001b[0m \u001b[0;34m=\u001b[0m \u001b[0mtrain_test_split\u001b[0m\u001b[0;34m(\u001b[0m\u001b[0mX\u001b[0m\u001b[0;34m,\u001b[0m \u001b[0my\u001b[0m\u001b[0;34m,\u001b[0m \u001b[0mtest_size\u001b[0m\u001b[0;34m=\u001b[0m\u001b[0;36m0.2\u001b[0m\u001b[0;34m,\u001b[0m \u001b[0mrandom_state\u001b[0m\u001b[0;34m=\u001b[0m\u001b[0;36m42\u001b[0m\u001b[0;34m)\u001b[0m\u001b[0;34m\u001b[0m\u001b[0;34m\u001b[0m\u001b[0m\n\u001b[0m\u001b[1;32m      5\u001b[0m \u001b[0;34m\u001b[0m\u001b[0m\n\u001b[1;32m      6\u001b[0m \u001b[0;31m# Print the sizes\u001b[0m\u001b[0;34m\u001b[0m\u001b[0;34m\u001b[0m\u001b[0m\n",
            "\u001b[0;31mNameError\u001b[0m: name 'X' is not defined"
          ]
        }
      ]
    },
    {
      "cell_type": "code",
      "source": [],
      "metadata": {
        "id": "p50oW7avA9Be"
      },
      "execution_count": null,
      "outputs": []
    }
  ]
}