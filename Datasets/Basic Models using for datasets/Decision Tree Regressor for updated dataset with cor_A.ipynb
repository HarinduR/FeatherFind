{
 "cells": [
  {
   "cell_type": "markdown",
   "metadata": {},
   "source": []
  },
  {
   "cell_type": "code",
   "execution_count": 1,
   "metadata": {},
   "outputs": [
    {
     "name": "stdout",
     "output_type": "stream",
     "text": [
      "   LATITUDE  LONGITUDE  ScaledCountPerMinute  ScaledCountPerKM  \\\n",
      "0  6.079940  80.932975             -0.405618         -0.084023   \n",
      "1  6.076015  80.932945              0.096322          0.089396   \n",
      "2  6.083702  80.932344              0.456689          0.029366   \n",
      "3  6.096865  80.924300              1.309344         -0.128135   \n",
      "4  6.096865  80.924300              1.309344         -0.128135   \n",
      "\n",
      "   Season_Northeast Monsoon  Season_Southwest Monsoon  TimeOfDay_Morning  \\\n",
      "0                      True                     False              False   \n",
      "1                      True                     False               True   \n",
      "2                      True                     False              False   \n",
      "3                      True                     False              False   \n",
      "4                      True                     False              False   \n",
      "\n",
      "   Month  DayOfWeek  OBSERVATION COUNT  \n",
      "0      1          6                4.0  \n",
      "1      1          0                4.0  \n",
      "2      2          4                8.0  \n",
      "3      2          4                3.0  \n",
      "4      2          4                3.0  \n"
     ]
    }
   ],
   "source": [
    "import pandas as pd\n",
    "\n",
    "file_path = r\"C:\\Users\\Deshan\\Documents\\IIT LECS\\Year 2 Sem 1\\DSGP\\dataset creation\\final_updated_dataset_with_cor_analysis.csv\"\n",
    "df = pd.read_csv(file_path)\n",
    "\n",
    "print(df.head())\n"
   ]
  },
  {
   "cell_type": "markdown",
   "metadata": {},
   "source": []
  },
  {
   "cell_type": "code",
   "execution_count": null,
   "metadata": {},
   "outputs": [
    {
     "name": "stdout",
     "output_type": "stream",
     "text": [
      "['LATITUDE', 'LONGITUDE', 'ScaledCountPerMinute', 'ScaledCountPerKM', 'Season_Northeast Monsoon', 'Season_Southwest Monsoon', 'TimeOfDay_Morning', 'Month', 'DayOfWeek']\n",
      "\n",
      "Target variable: OBSERVATION COUNT\n"
     ]
    }
   ],
   "source": [
    "\n",
    "features = [\n",
    "    'LATITUDE',\n",
    "    'LONGITUDE',\n",
    "    'ScaledCountPerMinute',\n",
    "    'ScaledCountPerKM',\n",
    "    'Season_Northeast Monsoon',\n",
    "    'Season_Southwest Monsoon',\n",
    "    'TimeOfDay_Morning',\n",
    "    'Month',\n",
    "    'DayOfWeek'\n",
    "]\n",
    "target = 'OBSERVATION COUNT'\n",
    "\n",
    "df = df.dropna(subset=['OBSERVATION COUNT'])\n",
    "\n",
    "X = df[features]\n",
    "y = df[target]\n",
    "\n",
    "print(features)\n",
    "print(\"\\nTarget variable:\", target)\n"
   ]
  },
  {
   "cell_type": "markdown",
   "metadata": {},
   "source": []
  },
  {
   "cell_type": "code",
   "execution_count": 9,
   "metadata": {},
   "outputs": [
    {
     "name": "stdout",
     "output_type": "stream",
     "text": [
      "X_train shape: (255, 9), y_train shape: (255,)\n",
      "X_test shape: (64, 9), y_test shape: (64,)\n"
     ]
    }
   ],
   "source": [
    "from sklearn.model_selection import train_test_split\n",
    "\n",
    "X_train, X_test, y_train, y_test = train_test_split(X, y, test_size=0.2, random_state=42)\n",
    "\n",
    "print(f\"X_train shape: {X_train.shape}, y_train shape: {y_train.shape}\")\n",
    "print(f\"X_test shape: {X_test.shape}, y_test shape: {y_test.shape}\")\n"
   ]
  },
  {
   "cell_type": "markdown",
   "metadata": {},
   "source": []
  },
  {
   "cell_type": "code",
   "execution_count": 10,
   "metadata": {},
   "outputs": [
    {
     "name": "stdout",
     "output_type": "stream",
     "text": [
      "DecisionTreeRegressor(random_state=42)\n"
     ]
    }
   ],
   "source": [
    "from sklearn.tree import DecisionTreeRegressor\n",
    "\n",
    "dt_model = DecisionTreeRegressor(random_state=42)\n",
    "\n",
    "dt_model.fit(X_train, y_train)\n",
    "\n",
    "print(dt_model)\n"
   ]
  },
  {
   "cell_type": "markdown",
   "metadata": {},
   "source": []
  },
  {
   "cell_type": "code",
   "execution_count": 12,
   "metadata": {},
   "outputs": [
    {
     "name": "stdout",
     "output_type": "stream",
     "text": [
      "Mean Squared Error (MSE): 56.7656\n",
      "R² Score: 0.5814\n"
     ]
    }
   ],
   "source": [
    "y_pred = dt_model.predict(X_test)\n",
    "\n",
    "from sklearn.metrics import mean_squared_error, r2_score\n",
    "\n",
    "mse = mean_squared_error(y_test, y_pred)\n",
    "\n",
    "r2 = r2_score(y_test, y_pred)\n",
    "\n",
    "\n",
    "print(f\"Mean Squared Error (MSE): {mse:.4f}\")\n",
    "print(f\"R² Score: {r2:.4f}\")\n"
   ]
  }
 ],
 "metadata": {
  "kernelspec": {
   "display_name": "Python 3",
   "language": "python",
   "name": "python3"
  },
  "language_info": {
   "codemirror_mode": {
    "name": "ipython",
    "version": 3
   },
   "file_extension": ".py",
   "mimetype": "text/x-python",
   "name": "python",
   "nbconvert_exporter": "python",
   "pygments_lexer": "ipython3",
   "version": "3.13.1"
  }
 },
 "nbformat": 4,
 "nbformat_minor": 2
}
