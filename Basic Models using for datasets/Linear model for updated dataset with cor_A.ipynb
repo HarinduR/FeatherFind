{
 "cells": [
  {
   "cell_type": "markdown",
   "metadata": {},
   "source": []
  },
  {
   "cell_type": "code",
   "execution_count": 16,
   "metadata": {},
   "outputs": [
    {
     "name": "stdout",
     "output_type": "stream",
     "text": [
      "Dataset Preview:\n",
      "   LATITUDE  LONGITUDE  ScaledCountPerMinute  ScaledCountPerKM  \\\n",
      "0  6.079940  80.932975             -0.405618         -0.084023   \n",
      "1  6.076015  80.932945              0.096322          0.089396   \n",
      "2  6.083702  80.932344              0.456689          0.029366   \n",
      "3  6.096865  80.924300              1.309344         -0.128135   \n",
      "4  6.096865  80.924300              1.309344         -0.128135   \n",
      "\n",
      "   Season_Northeast Monsoon  Season_Southwest Monsoon  TimeOfDay_Morning  \\\n",
      "0                      True                     False              False   \n",
      "1                      True                     False               True   \n",
      "2                      True                     False              False   \n",
      "3                      True                     False              False   \n",
      "4                      True                     False              False   \n",
      "\n",
      "   Month  DayOfWeek  OBSERVATION COUNT  \n",
      "0      1          6                4.0  \n",
      "1      1          0                4.0  \n",
      "2      2          4                8.0  \n",
      "3      2          4                3.0  \n",
      "4      2          4                3.0  \n",
      "\n",
      "Missing values in the dataset:\n",
      "LATITUDE                     0\n",
      "LONGITUDE                    0\n",
      "ScaledCountPerMinute         0\n",
      "ScaledCountPerKM             0\n",
      "Season_Northeast Monsoon     0\n",
      "Season_Southwest Monsoon     0\n",
      "TimeOfDay_Morning            0\n",
      "Month                        0\n",
      "DayOfWeek                    0\n",
      "OBSERVATION COUNT           78\n",
      "dtype: int64\n"
     ]
    }
   ],
   "source": [
    "import pandas as pd\n",
    "\n",
    "file_path = r\"C:\\Users\\Deshan\\Documents\\IIT LECS\\Year 2 Sem 1\\DSGP\\dataset creation\\final_updated_dataset_with_cor_analysis.csv\"\n",
    "df = pd.read_csv(file_path)\n",
    "\n",
    "print(\"Dataset Preview:\")\n",
    "print(df.head())\n",
    "\n",
    "print(\"\\nMissing values in the dataset:\")\n",
    "print(df.isna().sum())"
   ]
  },
  {
   "cell_type": "code",
   "execution_count": null,
   "metadata": {},
   "outputs": [
    {
     "name": "stdout",
     "output_type": "stream",
     "text": [
      "\n",
      "Features:\n",
      "['LATITUDE', 'LONGITUDE', 'ScaledCountPerMinute', 'ScaledCountPerKM', 'Season_Northeast Monsoon', 'Season_Southwest Monsoon', 'TimeOfDay_Morning', 'Month', 'DayOfWeek']\n",
      "\n",
      "Target variable: OBSERVATION COUNT\n"
     ]
    }
   ],
   "source": [
    "features = [\n",
    "    'LATITUDE',\n",
    "    'LONGITUDE',\n",
    "    'ScaledCountPerMinute',\n",
    "    'ScaledCountPerKM',\n",
    "    'Season_Northeast Monsoon',\n",
    "    'Season_Southwest Monsoon',\n",
    "    'TimeOfDay_Morning',\n",
    "    'Month',\n",
    "    'DayOfWeek'\n",
    "]\n",
    "target = 'OBSERVATION COUNT'\n",
    "\n",
    "#for missing values in features\n",
    "from sklearn.impute import SimpleImputer\n",
    "imputer = SimpleImputer(strategy='mean')\n",
    "df[features] = imputer.fit_transform(df[features])\n",
    "\n",
    "df = df.dropna(subset=[target])\n",
    "\n",
    "X = df[features]\n",
    "y = df[target]\n",
    "\n",
    "print(\"\\nFeatures:\")\n",
    "print(features)\n",
    "print(\"\\nTarget variable:\", target)\n"
   ]
  },
  {
   "cell_type": "markdown",
   "metadata": {},
   "source": []
  },
  {
   "cell_type": "code",
   "execution_count": null,
   "metadata": {},
   "outputs": [
    {
     "name": "stdout",
     "output_type": "stream",
     "text": [
      "\n",
      "Missing values in training set:\n",
      "LATITUDE                    0\n",
      "LONGITUDE                   0\n",
      "ScaledCountPerMinute        0\n",
      "ScaledCountPerKM            0\n",
      "Season_Northeast Monsoon    0\n",
      "Season_Southwest Monsoon    0\n",
      "TimeOfDay_Morning           0\n",
      "Month                       0\n",
      "DayOfWeek                   0\n",
      "dtype: int64\n",
      "0\n",
      "\n",
      "Data split completed:\n",
      "X_train shape: (255, 9), y_train shape: (255,)\n",
      "X_test shape: (64, 9), y_test shape: (64,)\n"
     ]
    }
   ],
   "source": [
    "from sklearn.model_selection import train_test_split\n",
    "\n",
    "X_train, X_test, y_train, y_test = train_test_split(X, y, test_size=0.2, random_state=42)\n",
    "\n",
    "# Verify no missing values in training and testing sets\n",
    "print(\"\\nMissing values in training set:\")\n",
    "print(X_train.isna().sum())\n",
    "print(y_train.isna().sum())\n",
    "\n",
    "print(f\"X_train shape: {X_train.shape}, y_train shape: {y_train.shape}\")\n",
    "print(f\"X_test shape: {X_test.shape}, y_test shape: {y_test.shape}\")\n"
   ]
  },
  {
   "cell_type": "markdown",
   "metadata": {},
   "source": []
  },
  {
   "cell_type": "code",
   "execution_count": 20,
   "metadata": {},
   "outputs": [
    {
     "name": "stdout",
     "output_type": "stream",
     "text": [
      "\n",
      "Linear Regression Model Trained:\n",
      "Coefficients: [23.41501802  3.49576145  2.74869062 -0.07321281 -0.22479451 -0.85891132\n",
      "  1.88459727  0.03908107  0.62249361]\n",
      "Intercept: -424.7546942374235\n"
     ]
    }
   ],
   "source": [
    "from sklearn.linear_model import LinearRegression\n",
    "\n",
    "model = LinearRegression()\n",
    "\n",
    "# Train the model\n",
    "model.fit(X_train, y_train)\n",
    "\n",
    "# Output coefficients and intercept\n",
    "print(\"\\nLinear Regression Model Trained:\")\n",
    "print(f\"Coefficients: {model.coef_}\")\n",
    "print(f\"Intercept: {model.intercept_}\")\n"
   ]
  },
  {
   "cell_type": "markdown",
   "metadata": {},
   "source": []
  },
  {
   "cell_type": "code",
   "execution_count": 22,
   "metadata": {},
   "outputs": [
    {
     "name": "stdout",
     "output_type": "stream",
     "text": [
      "\n",
      "Model Performance Metrics:\n",
      "Mean Squared Error (MSE): 120.6888\n",
      "R² Score: 0.1099\n"
     ]
    }
   ],
   "source": [
    "from sklearn.metrics import mean_squared_error, r2_score\n",
    "\n",
    "y_pred = model.predict(X_test)\n",
    "\n",
    "#mse\n",
    "mse = mean_squared_error(y_test, y_pred)\n",
    "\n",
    "r2 = r2_score(y_test, y_pred)\n",
    "\n",
    "print(\"\\nModel Performance Metrics:\")\n",
    "print(f\"Mean Squared Error (MSE): {mse:.4f}\")\n",
    "print(f\"R² Score: {r2:.4f}\")\n"
   ]
  }
 ],
 "metadata": {
  "kernelspec": {
   "display_name": "Python 3",
   "language": "python",
   "name": "python3"
  },
  "language_info": {
   "codemirror_mode": {
    "name": "ipython",
    "version": 3
   },
   "file_extension": ".py",
   "mimetype": "text/x-python",
   "name": "python",
   "nbconvert_exporter": "python",
   "pygments_lexer": "ipython3",
   "version": "3.13.1"
  }
 },
 "nbformat": 4,
 "nbformat_minor": 2
}
