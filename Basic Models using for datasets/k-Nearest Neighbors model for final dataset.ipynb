{
 "cells": [
  {
   "cell_type": "markdown",
   "metadata": {},
   "source": []
  },
  {
   "cell_type": "code",
   "execution_count": 2,
   "metadata": {},
   "outputs": [
    {
     "name": "stdout",
     "output_type": "stream",
     "text": [
      "   LATITUDE  LONGITUDE  ScaledCountPerMinute  OBSERVATION COUNT  \\\n",
      "0  6.079940  80.932975             -0.074096                4.0   \n",
      "1  6.076015  80.932945             -0.052122                4.0   \n",
      "2  6.083702  80.932344             -0.036346                8.0   \n",
      "3  6.096865  80.924300              0.000982                3.0   \n",
      "4  6.096865  80.924300              0.000982                3.0   \n",
      "\n",
      "   Season_Northeast Monsoon  Season_Second Inter-monsoon  \\\n",
      "0                      True                        False   \n",
      "1                      True                        False   \n",
      "2                      True                        False   \n",
      "3                      True                        False   \n",
      "4                      True                        False   \n",
      "\n",
      "   Season_Southwest Monsoon  Season_Unknown  Season_Time  TimeOfDay_Evening  \\\n",
      "0                     False           False        False              False   \n",
      "1                     False           False         True              False   \n",
      "2                     False           False        False              False   \n",
      "3                     False           False        False              False   \n",
      "4                     False           False        False              False   \n",
      "\n",
      "   TimeOfDay_Morning  \n",
      "0              False  \n",
      "1               True  \n",
      "2              False  \n",
      "3              False  \n",
      "4              False  \n"
     ]
    }
   ],
   "source": [
    "import pandas as pd\n",
    "from sklearn.model_selection import train_test_split\n",
    "from sklearn.neighbors import KNeighborsRegressor\n",
    "from sklearn.metrics import mean_squared_error, r2_score\n",
    "from sklearn.preprocessing import StandardScaler\n",
    "\n",
    "\n",
    "file_path = r\"C:\\Users\\Deshan\\Documents\\IIT LECS\\Year 2 Sem 1\\DSGP\\dataset creation\\final_dataset.csv\"\n",
    "df = pd.read_csv(file_path)\n",
    "\n",
    "print(df.head())\n"
   ]
  },
  {
   "cell_type": "markdown",
   "metadata": {},
   "source": []
  },
  {
   "cell_type": "code",
   "execution_count": 3,
   "metadata": {},
   "outputs": [],
   "source": [
    "X = df[['LATITUDE',\n",
    "        'LONGITUDE',\n",
    "        'ScaledCountPerMinute',\n",
    "        'Season_Northeast Monsoon',\n",
    "        'Season_Second Inter-monsoon',\n",
    "        'Season_Southwest Monsoon',\n",
    "        'Season_Unknown',\n",
    "        'TimeOfDay_Evening',\n",
    "        'TimeOfDay_Morning']]\n",
    "\n",
    "y = df['ScaledCountPerMinute']\n",
    "\n",
    "X_train, X_test, y_train, y_test = train_test_split(X, y, test_size=0.2, random_state=42)\n",
    "\n"
   ]
  },
  {
   "cell_type": "markdown",
   "metadata": {},
   "source": []
  },
  {
   "cell_type": "code",
   "execution_count": null,
   "metadata": {},
   "outputs": [],
   "source": [
    "scaler = StandardScaler()\n",
    "\n",
    "X_train_scaled = scaler.fit_transform(X_train)\n",
    "X_test_scaled = scaler.transform(X_test)"
   ]
  },
  {
   "cell_type": "markdown",
   "metadata": {},
   "source": []
  },
  {
   "cell_type": "code",
   "execution_count": 5,
   "metadata": {},
   "outputs": [],
   "source": [
    "import pandas as pd\n",
    "from sklearn.model_selection import train_test_split\n",
    "from sklearn.neighbors import KNeighborsRegressor\n",
    "from sklearn.metrics import mean_squared_error, r2_score\n",
    "from sklearn.preprocessing import StandardScaler\n",
    "\n",
    "\n",
    "knn_model = KNeighborsRegressor(n_neighbors=5)\n",
    "knn_model.fit(X_train_scaled, y_train)\n",
    "\n",
    "y_pred = knn_model.predict(X_test_scaled)\n"
   ]
  },
  {
   "cell_type": "markdown",
   "metadata": {},
   "source": []
  },
  {
   "cell_type": "code",
   "execution_count": 6,
   "metadata": {},
   "outputs": [
    {
     "name": "stdout",
     "output_type": "stream",
     "text": [
      "Model Performance (k-Nearest Neighbors Regressor):\n",
      "Mean Squared Error (MSE): 0.004556727446414712\n",
      "R² Score: 0.3015858407701346\n"
     ]
    }
   ],
   "source": [
    "mse = mean_squared_error(y_test, y_pred)\n",
    "\n",
    "r2 = r2_score(y_test, y_pred)\n",
    "\n",
    "print(f\"Model Performance (k-Nearest Neighbors Regressor):\")\n",
    "print(f\"Mean Squared Error (MSE): {mse}\")\n",
    "print(f\"R² Score: {r2}\")\n"
   ]
  }
 ],
 "metadata": {
  "kernelspec": {
   "display_name": "Python 3",
   "language": "python",
   "name": "python3"
  },
  "language_info": {
   "codemirror_mode": {
    "name": "ipython",
    "version": 3
   },
   "file_extension": ".py",
   "mimetype": "text/x-python",
   "name": "python",
   "nbconvert_exporter": "python",
   "pygments_lexer": "ipython3",
   "version": "3.13.1"
  }
 },
 "nbformat": 4,
 "nbformat_minor": 2
}
