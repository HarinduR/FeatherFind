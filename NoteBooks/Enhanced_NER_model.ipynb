{
  "nbformat": 4,
  "nbformat_minor": 0,
  "metadata": {
    "colab": {
      "provenance": [],
      "authorship_tag": "ABX9TyOihwuZR2LhOTW8TE8zOs/J",
      "include_colab_link": true
    },
    "kernelspec": {
      "name": "python3",
      "display_name": "Python 3"
    },
    "language_info": {
      "name": "python"
    }
  },
  "cells": [
    {
      "cell_type": "markdown",
      "metadata": {
        "id": "view-in-github",
        "colab_type": "text"
      },
      "source": [
        "<a href=\"https://colab.research.google.com/github/HarinduR/FeatherFind/blob/Keyword-Bird-Finder/Enhanced_NER_model.ipynb\" target=\"_parent\"><img src=\"https://colab.research.google.com/assets/colab-badge.svg\" alt=\"Open In Colab\"/></a>"
      ]
    },
    {
      "cell_type": "code",
      "execution_count": 1,
      "metadata": {
        "id": "6E_NqOlMZzs6"
      },
      "outputs": [],
      "source": [
        "import spacy\n",
        "from spacy.matcher import Matcher\n",
        "from spacy.util import filter_spans\n",
        "from spacy.tokens import Span\n",
        "\n",
        "class FeatureExtractor:\n",
        "\n",
        "    def __init__(self):\n",
        "\n",
        "        self.nlp = spacy.load(\"en_core_web_sm\")\n",
        "\n",
        "        self.COLOR_SYNONYMS = {\n",
        "            \"azure\": \"blue\", \"crimson\": \"red\", \"scarlet\": \"red\",\n",
        "            \"emerald\": \"green\", \"ivory\": \"white\", \"charcoal\": \"black\"\n",
        "        }\n",
        "\n",
        "        self.HABITAT_TERMS = [\"forest\", \"wetland\", \"desert\", \"water\", \"mountains\", \"grassland\", \"marsh\", \"coast\"]\n",
        "        self.SIZE_TERMS = [\"small\", \"large\", \"tiny\", \"big\", \"medium\", \"giant\"]\n",
        "        self.CONTINENTS = [\"asia\", \"europe\", \"africa\", \"america\", \"australia\", \"antarctica\"]\n",
        "        self.DIRECTIONS = [\"north\", \"south\", \"east\", \"west\"]\n",
        "\n",
        "    def extractFeatures(self, text):\n",
        "        doc = self.nlp(text.lower())\n",
        "        features = {\n",
        "            \"size\": None,\n",
        "            \"color\": {\"primary\": None, \"secondary\": None},\n",
        "            \"habitat\": None,\n",
        "            \"region\": None,\n",
        "            \"diet\": None,\n",
        "            \"eyes\": {\"size\": None, \"color\": None},\n",
        "            \"beak\": {\"size\": None, \"color\": None},\n",
        "            \"legs\": {\"size\": None, \"color\": None},\n",
        "            \"feathers\": None\n",
        "        }\n",
        "\n",
        "        for token in doc:\n",
        "            if token.dep_ == \"amod\" and token.head.text == \"bird\" and token.text in self.SIZE_TERMS:\n",
        "                features[\"size\"] = token.text\n",
        "\n",
        "            if token.dep_ == \"amod\" and token.head.text in [\"feathers\", \"wings\", \"chest\", \"body\", \"plumage\", \"tail\"]:\n",
        "                compound_color = None\n",
        "                for child in token.head.children:\n",
        "                    if child.dep_ == \"compound\":\n",
        "                        compound_color = self.COLOR_SYNONYMS.get(child.text, child.text)\n",
        "                        break\n",
        "\n",
        "                color = compound_color if compound_color else self.COLOR_SYNONYMS.get(token.text, token.text)\n",
        "\n",
        "                if not features[\"color\"][\"primary\"]:\n",
        "                    features[\"color\"][\"primary\"] = color\n",
        "                else:\n",
        "                    features[\"color\"][\"secondary\"] = color\n",
        "\n",
        "            if token.dep_ == \"amod\" and token.head.text == \"bird\" and token.text not in self.SIZE_TERMS:\n",
        "                color = self.COLOR_SYNONYMS.get(token.text, token.text)\n",
        "                if not features[\"color\"][\"primary\"]:\n",
        "                    features[\"color\"][\"primary\"] = color\n",
        "\n",
        "            if token.dep_ == \"amod\" and token.children != \"\" and token.head.text in [\"feathers\", \"wings\", \"chest\", \"body\", \"plumage\", \"tail\", \"bird\"] and token.text not in self.SIZE_TERMS:\n",
        "                for child in token.children:\n",
        "                    if child.dep_ == \"conj\":\n",
        "                        color = self.COLOR_SYNONYMS.get(child.text, child.text)\n",
        "                        features['color']['secondary'] = color\n",
        "\n",
        "        matcher = Matcher(self.nlp.vocab)  # Use self.nlp\n",
        "\n",
        "        matcher.add(\"HABITAT\", [\n",
        "            [{\"LOWER\": {\"IN\": [\"in\", \"near\", \"around\", \"found\"]}},\n",
        "            {\"LOWER\": {\"IN\": self.HABITAT_TERMS}}]\n",
        "        ])\n",
        "\n",
        "        matcher.add(\"REGION\", [\n",
        "            [\n",
        "                {\"LOWER\": {\"IN\": [\"in\", \"from\", \"found\"]}},\n",
        "                {\"LOWER\": {\"IN\": self.DIRECTIONS}, \"OP\": \"*\"},\n",
        "                {\"LOWER\": {\"IN\": self.CONTINENTS}}\n",
        "            ]\n",
        "        ])\n",
        "\n",
        "        matcher.add(\"DIET\", [\n",
        "            [{\"LOWER\": {\"IN\": [\"eats\", \"feeds\", \"consumes\", \"diet\"]}},\n",
        "            {\"POS\": \"NOUN\"}]\n",
        "        ])\n",
        "\n",
        "        matcher.add(\"PHYSICAL_CHARACTERISTICS\", [\n",
        "            [\n",
        "                {\"POS\": {\"IN\": [\"ADV\", \"ADJ\", \"NUM\"]}, \"OP\": \"*\"},\n",
        "                {\"POS\": {\"IN\": [\"ADJ\", \"NUM\"]}, \"OP\": \"+\"},\n",
        "                {\"LOWER\": {\"IN\": [\"eyes\", \"beak\", \"bill\", \"legs\"]}}\n",
        "            ]\n",
        "        ])\n",
        "\n",
        "        matches = matcher(doc)\n",
        "        spans = []\n",
        "\n",
        "        if not Span.has_extension(\"match_label\"):\n",
        "            Span.set_extension(\"match_label\", default=None)\n",
        "\n",
        "        for match_id, start, end in matches:\n",
        "            label = self.nlp.vocab.strings[match_id]\n",
        "            span = doc[start:end]\n",
        "            span._.match_label = label\n",
        "            spans.append(span)\n",
        "\n",
        "        filtered_spans = filter_spans(spans)\n",
        "\n",
        "        for span in filtered_spans:\n",
        "            label = span._.match_label\n",
        "            text = span.text\n",
        "            if label == \"HABITAT\":\n",
        "                features[\"habitat\"] = span[-1].text\n",
        "            elif label == \"REGION\":\n",
        "                features[\"region\"] = span[1:].text\n",
        "            elif label == \"DIET\":\n",
        "                features[\"diet\"] = span[-1].text\n",
        "            elif label == \"PHYSICAL_CHARACTERISTICS\":\n",
        "                if len(span) >= 2:\n",
        "                    words = text.split()\n",
        "                    category = words[-1]\n",
        "                    for word in words[:-1]:\n",
        "                        if word in self.SIZE_TERMS:\n",
        "                            features[category][\"size\"] = word\n",
        "                        else:\n",
        "                            features[category][\"color\"] = self.COLOR_SYNONYMS.get(word, word)\n",
        "\n",
        "        return features"
      ]
    },
    {
      "cell_type": "code",
      "source": [
        "fe = FeatureExtractor()\n",
        "\n",
        "print(fe.extractFeatures(\"Blue bird with a large beak\"))"
      ],
      "metadata": {
        "colab": {
          "base_uri": "https://localhost:8080/"
        },
        "id": "D7TRWALeefRD",
        "outputId": "b24e02f8-73d8-44c8-cdb2-b03c6cc0cd00"
      },
      "execution_count": 3,
      "outputs": [
        {
          "output_type": "stream",
          "name": "stdout",
          "text": [
            "{'size': None, 'color': {'primary': 'blue', 'secondary': None}, 'habitat': None, 'region': None, 'diet': None, 'eyes': {'size': None, 'color': None}, 'beak': {'size': 'large', 'color': None}, 'legs': {'size': None, 'color': None}, 'feathers': None}\n"
          ]
        }
      ]
    }
  ]
}