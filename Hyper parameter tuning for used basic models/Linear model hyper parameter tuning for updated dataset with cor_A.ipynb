{
 "cells": [
  {
   "cell_type": "markdown",
   "metadata": {},
   "source": []
  },
  {
   "cell_type": "code",
   "execution_count": 1,
   "metadata": {},
   "outputs": [
    {
     "name": "stdout",
     "output_type": "stream",
     "text": [
      "   LATITUDE  LONGITUDE  ScaledCountPerMinute  ScaledCountPerKM  \\\n",
      "0  6.079940  80.932975             -0.405618         -0.084023   \n",
      "1  6.076015  80.932945              0.096322          0.089396   \n",
      "2  6.083702  80.932344              0.456689          0.029366   \n",
      "3  6.096865  80.924300              1.309344         -0.128135   \n",
      "4  6.096865  80.924300              1.309344         -0.128135   \n",
      "\n",
      "   Season_Northeast Monsoon  Season_Southwest Monsoon  TimeOfDay_Morning  \\\n",
      "0                      True                     False              False   \n",
      "1                      True                     False               True   \n",
      "2                      True                     False              False   \n",
      "3                      True                     False              False   \n",
      "4                      True                     False              False   \n",
      "\n",
      "   Month  DayOfWeek  OBSERVATION COUNT  \n",
      "0      1          6                4.0  \n",
      "1      1          0                4.0  \n",
      "2      2          4                8.0  \n",
      "3      2          4                3.0  \n",
      "4      2          4                3.0  \n"
     ]
    }
   ],
   "source": [
    "import pandas as pd\n",
    "\n",
    "file_path = r\"C:\\Users\\Deshan\\Documents\\IIT LECS\\Year 2 Sem 1\\DSGP\\dataset creation\\final_updated_dataset_with_cor_analysis.csv\"\n",
    "df = pd.read_csv(file_path)\n",
    "\n",
    "print(df.head())\n",
    "\n"
   ]
  },
  {
   "cell_type": "markdown",
   "metadata": {},
   "source": []
  },
  {
   "cell_type": "code",
   "execution_count": 2,
   "metadata": {},
   "outputs": [
    {
     "name": "stdout",
     "output_type": "stream",
     "text": [
      "['LATITUDE', 'LONGITUDE', 'ScaledCountPerMinute', 'ScaledCountPerKM', 'Season_Northeast Monsoon', 'Season_Southwest Monsoon', 'TimeOfDay_Morning', 'Month', 'DayOfWeek']\n",
      "\n",
      "Target variable: OBSERVATION COUNT\n"
     ]
    }
   ],
   "source": [
    "features = [\n",
    "    'LATITUDE',\n",
    "    'LONGITUDE',\n",
    "    'ScaledCountPerMinute',\n",
    "    'ScaledCountPerKM',\n",
    "    'Season_Northeast Monsoon',\n",
    "    'Season_Southwest Monsoon',\n",
    "    'TimeOfDay_Morning',\n",
    "    'Month',\n",
    "    'DayOfWeek'\n",
    "]\n",
    "target = 'OBSERVATION COUNT'\n",
    "\n",
    "df = df.dropna(subset=['OBSERVATION COUNT'])\n",
    "\n",
    "X = df[features]\n",
    "y = df[target]\n",
    "\n",
    "print(features)\n",
    "print(\"\\nTarget variable:\", target)\n"
   ]
  },
  {
   "cell_type": "markdown",
   "metadata": {},
   "source": []
  },
  {
   "cell_type": "code",
   "execution_count": 3,
   "metadata": {},
   "outputs": [
    {
     "name": "stdout",
     "output_type": "stream",
     "text": [
      "X_train shape: (255, 9), y_train shape: (255,)\n",
      "X_test shape: (64, 9), y_test shape: (64,)\n"
     ]
    }
   ],
   "source": [
    "from sklearn.model_selection import train_test_split\n",
    "\n",
    "X_train, X_test, y_train, y_test = train_test_split(X, y, test_size=0.2, random_state=42)\n",
    "\n",
    "print(f\"X_train shape: {X_train.shape}, y_train shape: {y_train.shape}\")\n",
    "print(f\"X_test shape: {X_test.shape}, y_test shape: {y_test.shape}\")\n"
   ]
  },
  {
   "cell_type": "markdown",
   "metadata": {},
   "source": []
  },
  {
   "cell_type": "code",
   "execution_count": 4,
   "metadata": {},
   "outputs": [
    {
     "name": "stdout",
     "output_type": "stream",
     "text": [
      "Fitting 5 folds for each of 64 candidates, totalling 320 fits\n",
      "Best Hyperparameters: {'algorithm': 'auto', 'n_neighbors': 20, 'p': 1, 'weights': 'distance'}\n",
      "Best Model: KNeighborsRegressor(n_neighbors=20, p=1, weights='distance')\n"
     ]
    }
   ],
   "source": [
    "from sklearn.neighbors import KNeighborsRegressor\n",
    "from sklearn.model_selection import GridSearchCV\n",
    "\n",
    "#hyperparameter grid\n",
    "param_grid = {\n",
    "    'n_neighbors': [3, 5, 10, 20],\n",
    "    'weights': ['uniform', 'distance'],\n",
    "    'algorithm': ['auto', 'ball_tree', 'kd_tree', 'brute'],\n",
    "    'p': [1, 2]  # Manhattan and Euclidean distance\n",
    "}\n",
    "\n",
    "knn_model = KNeighborsRegressor()\n",
    "\n",
    "#GridSearchCV\n",
    "grid_search = GridSearchCV(\n",
    "    estimator=knn_model,\n",
    "    param_grid=param_grid,\n",
    "    cv=5,  # 5-fold cross-validation\n",
    "    scoring='r2',\n",
    "    n_jobs=-1,  # Use all available processors\n",
    "    verbose=1\n",
    ")\n",
    "\n",
    "grid_search.fit(X_train, y_train)\n",
    "\n",
    "best_model = grid_search.best_estimator_\n",
    "\n",
    "print(\"Best Hyperparameters:\", grid_search.best_params_)\n",
    "print(\"Best Model:\", best_model)\n"
   ]
  },
  {
   "cell_type": "markdown",
   "metadata": {},
   "source": []
  },
  {
   "cell_type": "code",
   "execution_count": 5,
   "metadata": {},
   "outputs": [
    {
     "name": "stdout",
     "output_type": "stream",
     "text": [
      "\n",
      "Model Performance Metrics:\n",
      "Mean Squared Error (MSE): 93.9711\n",
      "R² Score: 0.3070\n"
     ]
    }
   ],
   "source": [
    "from sklearn.metrics import mean_squared_error, r2_score\n",
    "\n",
    "y_pred = best_model.predict(X_test)\n",
    "\n",
    "mse = mean_squared_error(y_test, y_pred)\n",
    "r2 = r2_score(y_test, y_pred)\n",
    "\n",
    "print(\"\\nModel Performance Metrics:\")\n",
    "print(f\"Mean Squared Error (MSE): {mse:.4f}\")\n",
    "print(f\"R² Score: {r2:.4f}\")\n"
   ]
  }
 ],
 "metadata": {
  "kernelspec": {
   "display_name": "Python 3",
   "language": "python",
   "name": "python3"
  },
  "language_info": {
   "codemirror_mode": {
    "name": "ipython",
    "version": 3
   },
   "file_extension": ".py",
   "mimetype": "text/x-python",
   "name": "python",
   "nbconvert_exporter": "python",
   "pygments_lexer": "ipython3",
   "version": "3.13.1"
  }
 },
 "nbformat": 4,
 "nbformat_minor": 2
}
