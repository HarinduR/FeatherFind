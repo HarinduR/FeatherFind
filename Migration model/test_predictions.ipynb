{
 "cells": [
  {
   "cell_type": "code",
   "execution_count": 1,
   "metadata": {},
   "outputs": [],
   "source": [
    "import pandas as pd\n",
    "import joblib\n"
   ]
  },
  {
   "cell_type": "code",
   "execution_count": 2,
   "metadata": {},
   "outputs": [],
   "source": [
    "# Load the trained models\n",
    "migration_model = joblib.load(r\"C:\\Users\\Deshan\\Documents\\IIT LECS\\DSGP Models\\Migration model\\models\\migration_prediction_model.pkl\")\n",
    "location_model = joblib.load(r\"C:\\Users\\Deshan\\Documents\\IIT LECS\\DSGP Models\\Migration model\\models\\location_prediction_model.pkl\")\n",
    "time_models = joblib.load(r\"C:\\Users\\Deshan\\Documents\\IIT LECS\\DSGP Models\\Migration model\\models\\time_prediction_model.pkl\")\n"
   ]
  },
  {
   "cell_type": "code",
   "execution_count": 3,
   "metadata": {},
   "outputs": [],
   "source": [
    "def prepare_input_for_model(user_input, model_type):\n",
    "    \"\"\"\n",
    "    Prepares user input based on model type by selecting only required features.\n",
    "    \"\"\"\n",
    "    input_df = pd.DataFrame([user_input])\n",
    "\n",
    "    # ✅ Define expected feature sets\n",
    "    if model_type == \"migration\":\n",
    "        required_features = migration_model.feature_names_in_\n",
    "    elif model_type == \"location\":\n",
    "        required_features = location_model.feature_names_in_\n",
    "    elif model_type == \"time\":\n",
    "        return user_input  # No preprocessing needed for time models\n",
    "\n",
    "    # ✅ Ensure only trained features are passed to model\n",
    "    input_df = input_df[required_features]\n",
    "\n",
    "    return input_df\n"
   ]
  },
  {
   "cell_type": "code",
   "execution_count": 4,
   "metadata": {},
   "outputs": [],
   "source": [
    "# ✅ Migration Prediction\n",
    "def predict_migration(user_input):\n",
    "    input_features = prepare_input_for_model(user_input, \"migration\")\n",
    "    probability = migration_model.predict_proba(input_features)[:, 1]  # Get probability\n",
    "    return {\"migration_probability\": probability[0]}\n",
    "\n",
    "# ✅ Location Prediction\n",
    "def predict_location(user_input):\n",
    "    input_features = prepare_input_for_model(user_input, \"location\")\n",
    "    probabilities = location_model.predict_proba(input_features)[:, 1]\n",
    "    \n",
    "    species_list = location_model.classes_  # Get species names\n",
    "    sorted_species = sorted(zip(species_list, probabilities), key=lambda x: x[1], reverse=True)\n",
    "\n",
    "    top_species = [f\"{species} (Probability: {prob:.2f})\" for species, prob in sorted_species[:5]]\n",
    "\n",
    "    return {\"top_species_predictions\": top_species}\n",
    "\n",
    "# ✅ Time Prediction\n",
    "def predict_best_time(user_input):\n",
    "    location_encoded = time_models['locality_encoder'].transform([user_input[\"location\"]])[0]\n",
    "    \n",
    "    best_month = time_models['month_model'].predict([[location_encoded]])[0]\n",
    "    best_day = time_models['day_model'].predict([[location_encoded]])[0]\n",
    "    best_hour = time_models['hour_model'].predict([[location_encoded]])[0]\n",
    "\n",
    "    return {\"best_time\": {\"month\": best_month, \"day\": best_day, \"hour\": best_hour}}\n"
   ]
  },
  {
   "cell_type": "code",
   "execution_count": 5,
   "metadata": {},
   "outputs": [],
   "source": [
    "def process_user_query(user_input):\n",
    "    response = {}\n",
    "\n",
    "    # Check for Migration Prediction\n",
    "    if \"Year\" in user_input and \"LATITUDE\" in user_input and \"LONGITUDE\" in user_input:\n",
    "        response.update(predict_migration(user_input))\n",
    "\n",
    "    # Check for Location Prediction (Bird Species)\n",
    "    if \"COMMON NAME_Blue-tailed Bee-eater\" in user_input or \"COMMON NAME_Red-vented Bulbul\" in user_input:\n",
    "        response.update(predict_location(user_input))\n",
    "\n",
    "    # Check for Time Prediction (Best time for bird observation)\n",
    "    if \"location\" in user_input:\n",
    "        response.update(predict_best_time(user_input))\n",
    "\n",
    "    return response\n"
   ]
  },
  {
   "cell_type": "code",
   "execution_count": 9,
   "metadata": {},
   "outputs": [
    {
     "name": "stdout",
     "output_type": "stream",
     "text": [
      "Location Prediction: {'top_species_predictions': ['0 (Probability: 0.00)']}\n"
     ]
    }
   ],
   "source": [
    "test_input_location = {\n",
    "    \"Year\": 2025, \"Month\": 3, \"Day\": 12, \"Day_of_Week\": 2, \"Hour\": 7,\n",
    "    \"LATITUDE\": 6.287, \"LONGITUDE\": 81.261,\n",
    "    \"COMMON NAME_Blue-tailed Bee-eater\": 1, \"COMMON NAME_White-throated Kingfisher\": 0,\"COMMON NAME_Red-vented Bulbul\": 0\n",
    "}\n",
    "\n",
    "result_location = predict_location(test_input_location)\n",
    "print(\"Location Prediction:\", result_location)\n"
   ]
  }
 ],
 "metadata": {
  "kernelspec": {
   "display_name": "Python 3",
   "language": "python",
   "name": "python3"
  },
  "language_info": {
   "codemirror_mode": {
    "name": "ipython",
    "version": 3
   },
   "file_extension": ".py",
   "mimetype": "text/x-python",
   "name": "python",
   "nbconvert_exporter": "python",
   "pygments_lexer": "ipython3",
   "version": "3.13.1"
  }
 },
 "nbformat": 4,
 "nbformat_minor": 2
}
