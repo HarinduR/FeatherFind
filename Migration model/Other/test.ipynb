{
 "cells": [
  {
   "cell_type": "code",
   "execution_count": 55,
   "metadata": {},
   "outputs": [
    {
     "name": "stdout",
     "output_type": "stream",
     "text": [
      "Status Code: 200\n",
      "Response: {'day_name': 'Friday', 'meaningful_sentence': 'The Blue-tailed Bee-eater is likely to be present at Bundala NP General on Friday, 4/2025 in the Night.', 'predicted_presence': 1, 'probability': 0.786, 'query': 'Will I be able to see a Blue-tailed Bee-eater in Bundala NP General on a Friday at 10:00 am in April 2025?', 'time_period': 'Night'}\n"
     ]
    }
   ],
   "source": [
    "import requests\n",
    "\n",
    "API_URL = \"http://127.0.0.1:5000/predict\"\n",
    "payload = {\"query\": \"Will I be able to see a Blue-tailed Bee-eater in Bundala NP General on a Friday at 10:00 am in April 2025?\"}\n",
    "headers = {\"Content-Type\": \"application/json\"}\n",
    "\n",
    "response = requests.post(API_URL, json=payload, headers=headers)\n",
    "\n",
    "print(\"Status Code:\", response.status_code)\n",
    "print(\"Response:\", response.json())\n"
   ]
  },
  {
   "cell_type": "code",
   "execution_count": 50,
   "metadata": {},
   "outputs": [
    {
     "name": "stdout",
     "output_type": "stream",
     "text": [
      "Status Code: 200\n",
      "Response: {'Response': 'The Blue-tailed Bee-eater is likely to be present at Bundala NP General on Wednesday, 3/2025 in the night.'}\n"
     ]
    }
   ],
   "source": [
    "import requests\n",
    "\n",
    "API_URL = \"http://127.0.0.1:5000/predict_presence\"\n",
    "\n",
    "payload = {\n",
    "    \"query\": \"Will I be able to see a Blue bird in Bundala ? \"\n",
    "}\n",
    "\n",
    "headers = {\"Content-Type\": \"application/json\"}\n",
    "\n",
    "try:\n",
    "    response = requests.post(API_URL, json=payload, headers=headers)\n",
    "    \n",
    "    print(\"Status Code:\", response.status_code)\n",
    "    \n",
    "    # ✅ Ensure the API response is valid before parsing JSON\n",
    "    if response.status_code == 200:\n",
    "        print(\"Response:\", response.json())\n",
    "    else:\n",
    "        print(\"Error:\", response.text)\n",
    "\n",
    "except requests.exceptions.RequestException as e:\n",
    "    print(\"❌ Error connecting to the API:\", e)\n"
   ]
  },
  {
   "cell_type": "code",
   "execution_count": 51,
   "metadata": {},
   "outputs": [
    {
     "name": "stdout",
     "output_type": "stream",
     "text": [
      "\n",
      "🔍 Status Code: 200\n",
      "\n",
      "✅ Response Data: {'Response for you': 'The Blue-tailed Bee-eater can be seen on Thursday, 3/2025 in the night at these locations in Hambanthota District: Bundala NP General, Netolpitiya Southern Province, Bundala Freshwater Marsh, Wewa  Bundala National ParkSouthern Province, Kalametiya Bird Sanctuary.'}\n"
     ]
    }
   ],
   "source": [
    "import requests\n",
    "\n",
    "# ✅ Define the correct API endpoint\n",
    "API_URL = \"http://127.0.0.1:5001/predict_location\"\n",
    "\n",
    "# ✅ Test Query Payload\n",
    "payload = {\n",
    "    \"query\": \"Where can I find a Blue bird on tomorrow?\"\n",
    "}\n",
    "\n",
    "# ✅ Headers for JSON content\n",
    "headers = {\"Content-Type\": \"application/json\"}\n",
    "\n",
    "try:\n",
    "    # ✅ Send POST request with a timeout\n",
    "    response = requests.post(API_URL, json=payload, headers=headers, timeout=10)\n",
    "\n",
    "    # ✅ Print Status Code\n",
    "    print(\"\\n🔍 Status Code:\", response.status_code)\n",
    "\n",
    "    # ✅ Check if request was successful\n",
    "    if response.status_code == 200:\n",
    "        try:\n",
    "            # ✅ Attempt to parse JSON response\n",
    "            json_response = response.json()\n",
    "            print(\"\\n✅ Response Data:\", json_response)\n",
    "\n",
    "        except requests.exceptions.JSONDecodeError:\n",
    "            print(\"\\n❌ Error: Received non-JSON response:\", response.text)\n",
    "    \n",
    "    else:\n",
    "        print(\"\\n❌ API Error:\", response.text)\n",
    "\n",
    "# ✅ Handle common exceptions\n",
    "except requests.exceptions.Timeout:\n",
    "    print(\"\\n❌ Error: API request timed out. Ensure the server is running.\")\n",
    "except requests.exceptions.ConnectionError:\n",
    "    print(\"\\n❌ Error: Unable to connect to the API. Check if the server is running.\")\n",
    "except requests.exceptions.RequestException as e:\n",
    "    print(f\"\\n❌ Unexpected Error: {e}\")\n"
   ]
  },
  {
   "cell_type": "code",
   "execution_count": null,
   "metadata": {},
   "outputs": [
    {
     "name": "stdout",
     "output_type": "stream",
     "text": [
      "\n",
      "🔍 Status Code: 200\n",
      "\n",
      "✅ Response Data: {'hour': '7:00 a.m.', 'month': 'July', 'status': 'success'}\n"
     ]
    }
   ],
   "source": [
    "import requests\n",
    "\n",
    "# ✅ Define the API endpoint (Update this if running locally or on a remote server)\n",
    "API_URL = \"http://127.0.0.1:5002/predict_best_time\"  # Change to your actual API URL if deployed\n",
    "\n",
    "# ✅ Test Query Payload\n",
    "payload = {\n",
    "    \"query\": \"When is the best time to see a Blue tailed bird in Bundala during a summer morning ?\"\n",
    "}\n",
    "\n",
    "# ✅ Headers for JSON content\n",
    "headers = {\"Content-Type\": \"application/json\"}\n",
    "\n",
    "try:\n",
    "    # ✅ Send POST request with a timeout\n",
    "    response = requests.post(API_URL, json=payload, headers=headers, timeout=10)\n",
    "\n",
    "    # ✅ Print Status Code\n",
    "    print(\"\\n🔍 Status Code:\", response.status_code)\n",
    "    \n",
    "    if response.status_code == 200:\n",
    "        try:\n",
    "            # ✅ Attempt to parse JSON response\n",
    "            json_response = response.json()\n",
    "            print(\"\\n✅ Response Data:\", json_response)\n",
    "\n",
    "        except requests.exceptions.JSONDecodeError:\n",
    "            print(\"\\n❌ Error: Received non-JSON response:\", response.text)\n",
    "    \n",
    "    else:\n",
    "        print(\"\\n❌ API Error:\", response.text)\n",
    "\n",
    "\n",
    "# ✅ Handle common exceptions\n",
    "except requests.exceptions.Timeout:\n",
    "    print(\"\\n❌ Error: API request timed out. Ensure the server is running.\")\n",
    "except requests.exceptions.ConnectionError:\n",
    "    print(\"\\n❌ Error: Unable to connect to the API. Check if the server is running at the correct endpoint.\")\n",
    "except requests.exceptions.RequestException as e:\n",
    "    print(f\"\\n❌ Unexpected Error: {e}\")\n"
   ]
  }
 ],
 "metadata": {
  "kernelspec": {
   "display_name": "Python 3",
   "language": "python",
   "name": "python3"
  },
  "language_info": {
   "codemirror_mode": {
    "name": "ipython",
    "version": 3
   },
   "file_extension": ".py",
   "mimetype": "text/x-python",
   "name": "python",
   "nbconvert_exporter": "python",
   "pygments_lexer": "ipython3",
   "version": "3.13.2"
  }
 },
 "nbformat": 4,
 "nbformat_minor": 2
}
