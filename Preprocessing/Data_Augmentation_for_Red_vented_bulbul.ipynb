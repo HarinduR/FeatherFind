{
  "nbformat": 4,
  "nbformat_minor": 0,
  "metadata": {
    "colab": {
      "provenance": []
    },
    "kernelspec": {
      "name": "python3",
      "display_name": "Python 3"
    },
    "language_info": {
      "name": "python"
    }
  },
  "cells": [
    {
      "cell_type": "code",
      "execution_count": 1,
      "metadata": {
        "colab": {
          "base_uri": "https://localhost:8080/"
        },
        "id": "QwysoiBUgEL_",
        "outputId": "620285bb-64df-4c69-a65e-0827b8706de3"
      },
      "outputs": [
        {
          "output_type": "stream",
          "name": "stdout",
          "text": [
            "Zip file '/content/Red vented bulbul.zip' extracted successfully to '/content/extracted_images/Red vented bulbul'.\n",
            "Image augmentation complete. Augmented images saved to '/content/augmented_images(red vented bulbul)'.\n",
            "Augmented images zipped at: /content/augmented_images(red vented bulbul).zip\n"
          ]
        }
      ],
      "source": [
        "import os\n",
        "import random\n",
        "from PIL import Image, ImageEnhance\n",
        "import numpy as np\n",
        "import zipfile\n",
        "from google.colab import files\n",
        "\n",
        "zip_filename = \"/content/Red vented bulbul.zip\"\n",
        "\n",
        "# Extract the zip file\n",
        "extracted_folder = \"/content/extracted_images\"\n",
        "os.makedirs(extracted_folder, exist_ok=True)\n",
        "with zipfile.ZipFile(zip_filename, 'r') as zip_ref:\n",
        "    zip_ref.extractall(extracted_folder)\n",
        "\n",
        "# The subfolder inside the extracted folder\n",
        "image_folder = os.path.join(extracted_folder, \"Red vented bulbul\")\n",
        "print(f\"Zip file '{zip_filename}' extracted successfully to '{image_folder}'.\")\n",
        "\n",
        "# Augment images and save to a new folder\n",
        "output_folder = \"/content/augmented_images(red vented bulbul)\"\n",
        "os.makedirs(output_folder, exist_ok=True)\n",
        "\n",
        "def apply_transformations(image):\n",
        "    # Random noise addition\n",
        "    image_array = np.array(image)\n",
        "    noise = np.random.normal(0, 5, image_array.shape)  # Adjust the standard deviation as needed\n",
        "    noisy_image_array = np.clip(image_array + noise, 0, 255).astype(np.uint8)\n",
        "    image = Image.fromarray(noisy_image_array)\n",
        "\n",
        "    # Random contrast adjustment\n",
        "    contrast_factor = random.uniform(0.8, 1.2)  # Random factor between 0.8 and 1.2\n",
        "    enhancer = ImageEnhance.Contrast(image)\n",
        "    image = enhancer.enhance(contrast_factor)\n",
        "\n",
        "    return image\n",
        "\n",
        "# Perform augmentations\n",
        "image_counter = 1\n",
        "for filename in os.listdir(image_folder):\n",
        "    if filename.endswith((\".jpg\", \".jpeg\", \".png\")):\n",
        "        img_path = os.path.join(image_folder, filename)\n",
        "        img = Image.open(img_path)\n",
        "\n",
        "        # Generate flipped image\n",
        "        transformed_img1 = img.transpose(Image.FLIP_LEFT_RIGHT)\n",
        "\n",
        "        # Generate augmented image\n",
        "        transformed_img2 = apply_transformations(img)\n",
        "\n",
        "        # Save augmented images\n",
        "        output_filename1 = f\"image_{image_counter}.png\"\n",
        "        output_filename2 = f\"image_{image_counter + 1}.png\"\n",
        "        image_counter += 2\n",
        "\n",
        "        transformed_img1.save(os.path.join(output_folder, output_filename1))\n",
        "        transformed_img2.save(os.path.join(output_folder, output_filename2))\n",
        "\n",
        "print(f\"Image augmentation complete. Augmented images saved to '{output_folder}'.\")\n",
        "\n",
        "#Zip the augmented images\n",
        "zip_path = \"/content/augmented_images(red vented bulbul).zip\"\n",
        "with zipfile.ZipFile(zip_path, \"w\") as zipf:\n",
        "    for root, dirs, files in os.walk(output_folder):\n",
        "        for file in files:\n",
        "            zipf.write(os.path.join(root, file), os.path.relpath(os.path.join(root, file), output_folder))\n",
        "\n",
        "print(f\"Augmented images zipped at: {zip_path}\")\n"
      ]
    }
  ]
}