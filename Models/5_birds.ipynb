{
  "nbformat": 4,
  "nbformat_minor": 0,
  "metadata": {
    "colab": {
      "provenance": []
    },
    "kernelspec": {
      "name": "python3",
      "display_name": "Python 3"
    },
    "language_info": {
      "name": "python"
    }
  },
  "cells": [
    {
      "cell_type": "code",
      "execution_count": null,
      "metadata": {
        "id": "5oJMAnHkKKJl"
      },
      "outputs": [],
      "source": [
        "import zipfile\n",
        "import os\n",
        "import shutil\n",
        "import numpy as np\n",
        "from tensorflow.keras.preprocessing.image import ImageDataGenerator, load_img, img_to_array, array_to_img\n",
        "from sklearn.model_selection import train_test_split\n",
        "import tensorflow as tf\n",
        "from tensorflow.keras.applications import MobileNetV2\n",
        "from tensorflow.keras.models import Sequential\n",
        "from tensorflow.keras.layers import Dense, GlobalAveragePooling2D, Dropout\n",
        "from tensorflow.keras.optimizers import Adam\n",
        "from tensorflow.keras.losses import CategoricalCrossentropy\n",
        "from sklearn.metrics import classification_report\n"
      ]
    },
    {
      "cell_type": "code",
      "source": [
        "import zipfile\n",
        "import os\n",
        "\n",
        "# Paths to your zip files\n",
        "zip_paths = [\n",
        "    \"/content/Blue Tailed Bee Eater.zip\",\n",
        "    \"/content/Red Vented Bul Bul.zip\",\n",
        "    \"/content/White throted kingfisher.zip\",\n",
        "    \"/content/Purple Heron.zip\",\n",
        "    \"/content/Pied Kingfisher.zip\"\n",
        "]\n",
        "\n",
        "# Unzipping function\n",
        "def unzip_files(zip_paths, extract_to_base):\n",
        "    for zip_path in zip_paths:\n",
        "        # Get the folder name based on the zip file name\n",
        "        folder_name = os.path.splitext(os.path.basename(zip_path))[0]\n",
        "        extract_to = os.path.join(extract_to_base, folder_name)\n",
        "\n",
        "        os.makedirs(extract_to, exist_ok=True)\n",
        "        print(f\"Unzipping {zip_path} to {extract_to}...\")\n",
        "\n",
        "        with zipfile.ZipFile(zip_path, 'r') as zip_ref:\n",
        "            zip_ref.extractall(extract_to)\n",
        "        print(f\"Finished unzipping {zip_path} to {extract_to}\")\n",
        "\n",
        "# Unzip all files to separate directories for each bird\n",
        "extracted_base_dir = \"/content/extracted_images\"\n",
        "unzip_files(zip_paths, extracted_base_dir)\n"
      ],
      "metadata": {
        "colab": {
          "base_uri": "https://localhost:8080/"
        },
        "id": "7Owd44DXKxgM",
        "outputId": "60dc6e8a-74eb-4b7c-eb29-dff1d132cbd0"
      },
      "execution_count": null,
      "outputs": [
        {
          "output_type": "stream",
          "name": "stdout",
          "text": [
            "Unzipping /content/Blue Tailed Bee Eater.zip to /content/extracted_images/Blue Tailed Bee Eater...\n",
            "Finished unzipping /content/Blue Tailed Bee Eater.zip to /content/extracted_images/Blue Tailed Bee Eater\n",
            "Unzipping /content/Red Vented Bul Bul.zip to /content/extracted_images/Red Vented Bul Bul...\n",
            "Finished unzipping /content/Red Vented Bul Bul.zip to /content/extracted_images/Red Vented Bul Bul\n",
            "Unzipping /content/White throted kingfisher.zip to /content/extracted_images/White throted kingfisher...\n",
            "Finished unzipping /content/White throted kingfisher.zip to /content/extracted_images/White throted kingfisher\n",
            "Unzipping /content/Purple Heron.zip to /content/extracted_images/Purple Heron...\n",
            "Finished unzipping /content/Purple Heron.zip to /content/extracted_images/Purple Heron\n",
            "Unzipping /content/Pied Kingfisher.zip to /content/extracted_images/Pied Kingfisher...\n",
            "Finished unzipping /content/Pied Kingfisher.zip to /content/extracted_images/Pied Kingfisher\n"
          ]
        }
      ]
    },
    {
      "cell_type": "code",
      "source": [
        "# Function to split and organize datasets\n",
        "def split_and_organize_datasets(base_extracted_dir, split_base_dir, test_size=0.2, val_size=0.2):\n",
        "    if os.path.exists(split_base_dir):\n",
        "        shutil.rmtree(split_base_dir)\n",
        "    os.makedirs(split_base_dir, exist_ok=True)\n",
        "    for split in ['train', 'val', 'test']:\n",
        "        os.makedirs(os.path.join(split_base_dir, split), exist_ok=True)\n",
        "\n",
        "    for bird_folder in os.listdir(base_extracted_dir):\n",
        "        bird_dir = os.path.join(base_extracted_dir, bird_folder)\n",
        "        if not os.path.isdir(bird_dir):\n",
        "            continue\n",
        "        images = [img for img in os.listdir(bird_dir) if img.endswith(('.jpg', '.jpeg', '.png'))]\n",
        "        if len(images) == 0:\n",
        "            continue\n",
        "        train_imgs, test_imgs = train_test_split(images, test_size=test_size, random_state=42)\n",
        "        train_imgs, val_imgs = train_test_split(train_imgs, test_size=val_size, random_state=42)\n",
        "        for split, imgs in zip(['train', 'val', 'test'], [train_imgs, val_imgs, test_imgs]):\n",
        "            split_dir = os.path.join(split_base_dir, split, bird_folder)\n",
        "            os.makedirs(split_dir, exist_ok=True)\n",
        "            for img in imgs:\n",
        "                shutil.copy(os.path.join(bird_dir, img), os.path.join(split_dir, img))\n",
        "\n",
        "# Split dataset\n",
        "split_base_dir = \"/content/split_datasets\"\n",
        "split_and_organize_datasets(extracted_base_dir, split_base_dir)\n"
      ],
      "metadata": {
        "id": "BuFkxxOUKzZq"
      },
      "execution_count": null,
      "outputs": []
    },
    {
      "cell_type": "code",
      "source": [
        "# Function to augment training data by flipping images\n",
        "def augment_training_data(train_dir):\n",
        "    for bird_folder in os.listdir(train_dir):\n",
        "        bird_folder_path = os.path.join(train_dir, bird_folder)\n",
        "        if not os.path.isdir(bird_folder_path):\n",
        "            continue\n",
        "        for img_name in os.listdir(bird_folder_path):\n",
        "            img_path = os.path.join(bird_folder_path, img_name)\n",
        "            if img_path.endswith(('.jpg', '.jpeg', '.png')):\n",
        "                img = load_img(img_path)\n",
        "                img_array = img_to_array(img)\n",
        "                flipped_img_array = np.fliplr(img_array)  # Flip image\n",
        "                flipped_img = array_to_img(flipped_img_array)\n",
        "                flipped_img.save(os.path.join(bird_folder_path, f\"flipped_{img_name}\"))\n",
        "\n",
        "# Augment training data\n",
        "train_dir = os.path.join(split_base_dir, 'train')\n",
        "augment_training_data(train_dir)\n",
        "\n",
        "# ImageDataGenerator setup\n",
        "img_size = (224, 224)\n",
        "batch_size = 32\n",
        "\n",
        "train_datagen = ImageDataGenerator(rescale=1.0 / 255.0)\n",
        "val_datagen = ImageDataGenerator(rescale=1.0 / 255.0)\n",
        "test_datagen = ImageDataGenerator(rescale=1.0 / 255.0)\n",
        "\n",
        "train_gen = train_datagen.flow_from_directory(train_dir, target_size=img_size, batch_size=batch_size, class_mode='categorical')\n",
        "val_gen = val_datagen.flow_from_directory(os.path.join(split_base_dir, 'val'), target_size=img_size, batch_size=batch_size, class_mode='categorical')\n",
        "test_gen = test_datagen.flow_from_directory(os.path.join(split_base_dir, 'test'), target_size=img_size, batch_size=batch_size, class_mode='categorical', shuffle=False)\n"
      ],
      "metadata": {
        "colab": {
          "base_uri": "https://localhost:8080/"
        },
        "id": "7u-RuulDK2i7",
        "outputId": "573abc1c-f8e1-4ffd-c66c-73eddbd6a60d"
      },
      "execution_count": null,
      "outputs": [
        {
          "output_type": "stream",
          "name": "stdout",
          "text": [
            "Found 3200 images belonging to 5 classes.\n",
            "Found 400 images belonging to 5 classes.\n",
            "Found 500 images belonging to 5 classes.\n"
          ]
        }
      ]
    },
    {
      "cell_type": "code",
      "source": [
        "\n",
        "# Load the MobileNetV2 model with pre-trained weights\n",
        "base_model = MobileNetV2(input_shape=(224, 224, 3), include_top=False, weights='imagenet')\n",
        "\n",
        "# Unfreeze the last 10 layers for fine-tuning\n",
        "base_model.trainable = True\n",
        "for layer in base_model.layers[:-10]:\n",
        "    layer.trainable = False\n",
        "\n",
        "\n",
        "for layer in base_model.layers[-15:]:\n",
        "    if hasattr(layer, 'kernel_regularizer'):\n",
        "        layer.kernel_regularizer = tf.keras.regularizers.l2(0.005)\n",
        "\n",
        "# Create the model\n",
        "model = Sequential([\n",
        "    base_model,\n",
        "    GlobalAveragePooling2D(),\n",
        "    Dense(128, activation='relu', kernel_regularizer=tf.keras.regularizers.l2(0.01)),\n",
        "    Dropout(0.15),\n",
        "    Dense(train_gen.num_classes, activation='softmax')\n",
        "])\n",
        "\n",
        "# Compile the model with label smoothing\n",
        "model.compile(\n",
        "    optimizer=Adam(learning_rate=3e-5),\n",
        "    loss=tf.keras.losses.CategoricalCrossentropy(label_smoothing=0.01),\n",
        "    metrics=['accuracy']\n",
        ")\n",
        "\n"
      ],
      "metadata": {
        "id": "pvf8tgajK5RP"
      },
      "execution_count": null,
      "outputs": []
    },
    {
      "cell_type": "code",
      "source": [
        "# Train model\n",
        "epochs = 10\n",
        "history = model.fit(train_gen, validation_data=val_gen, epochs=epochs, verbose=1)\n"
      ],
      "metadata": {
        "colab": {
          "base_uri": "https://localhost:8080/"
        },
        "id": "TiCK3Gn8K7sL",
        "outputId": "f1931fb0-6f7f-42b0-be4a-4ead18eef219"
      },
      "execution_count": null,
      "outputs": [
        {
          "output_type": "stream",
          "name": "stdout",
          "text": [
            "Epoch 1/10\n"
          ]
        },
        {
          "output_type": "stream",
          "name": "stderr",
          "text": [
            "/usr/local/lib/python3.11/dist-packages/keras/src/trainers/data_adapters/py_dataset_adapter.py:121: UserWarning: Your `PyDataset` class should call `super().__init__(**kwargs)` in its constructor. `**kwargs` can include `workers`, `use_multiprocessing`, `max_queue_size`. Do not pass these arguments to `fit()`, as they will be ignored.\n",
            "  self._warn_if_super_not_called()\n"
          ]
        },
        {
          "output_type": "stream",
          "name": "stdout",
          "text": [
            "\u001b[1m100/100\u001b[0m \u001b[32m━━━━━━━━━━━━━━━━━━━━\u001b[0m\u001b[37m\u001b[0m \u001b[1m209s\u001b[0m 2s/step - accuracy: 0.5322 - loss: 3.5539 - val_accuracy: 0.7600 - val_loss: 2.9116\n",
            "Epoch 2/10\n",
            "\u001b[1m100/100\u001b[0m \u001b[32m━━━━━━━━━━━━━━━━━━━━\u001b[0m\u001b[37m\u001b[0m \u001b[1m195s\u001b[0m 2s/step - accuracy: 0.9099 - loss: 2.6536 - val_accuracy: 0.8800 - val_loss: 2.6290\n",
            "Epoch 3/10\n",
            "\u001b[1m100/100\u001b[0m \u001b[32m━━━━━━━━━━━━━━━━━━━━\u001b[0m\u001b[37m\u001b[0m \u001b[1m203s\u001b[0m 2s/step - accuracy: 0.9419 - loss: 2.4682 - val_accuracy: 0.9175 - val_loss: 2.4825\n",
            "Epoch 4/10\n",
            "\u001b[1m100/100\u001b[0m \u001b[32m━━━━━━━━━━━━━━━━━━━━\u001b[0m\u001b[37m\u001b[0m \u001b[1m203s\u001b[0m 2s/step - accuracy: 0.9651 - loss: 2.3361 - val_accuracy: 0.9300 - val_loss: 2.3639\n",
            "Epoch 5/10\n",
            "\u001b[1m100/100\u001b[0m \u001b[32m━━━━━━━━━━━━━━━━━━━━\u001b[0m\u001b[37m\u001b[0m \u001b[1m195s\u001b[0m 2s/step - accuracy: 0.9783 - loss: 2.2234 - val_accuracy: 0.9500 - val_loss: 2.2430\n",
            "Epoch 6/10\n",
            "\u001b[1m100/100\u001b[0m \u001b[32m━━━━━━━━━━━━━━━━━━━━\u001b[0m\u001b[37m\u001b[0m \u001b[1m194s\u001b[0m 2s/step - accuracy: 0.9824 - loss: 2.1378 - val_accuracy: 0.9500 - val_loss: 2.1489\n",
            "Epoch 7/10\n",
            "\u001b[1m100/100\u001b[0m \u001b[32m━━━━━━━━━━━━━━━━━━━━\u001b[0m\u001b[37m\u001b[0m \u001b[1m201s\u001b[0m 2s/step - accuracy: 0.9899 - loss: 2.0509 - val_accuracy: 0.9550 - val_loss: 2.0615\n",
            "Epoch 8/10\n",
            "\u001b[1m100/100\u001b[0m \u001b[32m━━━━━━━━━━━━━━━━━━━━\u001b[0m\u001b[37m\u001b[0m \u001b[1m189s\u001b[0m 2s/step - accuracy: 0.9951 - loss: 1.9586 - val_accuracy: 0.9600 - val_loss: 1.9744\n",
            "Epoch 9/10\n",
            "\u001b[1m100/100\u001b[0m \u001b[32m━━━━━━━━━━━━━━━━━━━━\u001b[0m\u001b[37m\u001b[0m \u001b[1m189s\u001b[0m 2s/step - accuracy: 0.9931 - loss: 1.8787 - val_accuracy: 0.9600 - val_loss: 1.8918\n",
            "Epoch 10/10\n",
            "\u001b[1m100/100\u001b[0m \u001b[32m━━━━━━━━━━━━━━━━━━━━\u001b[0m\u001b[37m\u001b[0m \u001b[1m189s\u001b[0m 2s/step - accuracy: 0.9913 - loss: 1.8101 - val_accuracy: 0.9625 - val_loss: 1.8128\n"
          ]
        }
      ]
    },
    {
      "cell_type": "code",
      "source": [
        "\n",
        "average_training_accuracy = sum(history.history['accuracy']) / len(history.history['accuracy'])\n",
        "print(f\"Average Training Accuracy: {average_training_accuracy * 100:.2f}%\")\n",
        "\n",
        "test_loss, test_accuracy = model.evaluate(test_gen, verbose=1)\n",
        "print(f\"Test Accuracy: {test_accuracy * 100:.2f}%\")\n",
        "\n",
        "y_true = test_gen.classes\n",
        "y_pred = np.argmax(model.predict(test_gen), axis=-1)\n",
        "\n",
        "print(\"Classification Report:\")\n",
        "print(classification_report(y_true, y_pred, target_names=test_gen.class_indices.keys()))\n"
      ],
      "metadata": {
        "colab": {
          "base_uri": "https://localhost:8080/"
        },
        "id": "CNuWJAbXTpny",
        "outputId": "9ca819e4-c49d-4286-d3e2-00f3eec2c0fb"
      },
      "execution_count": null,
      "outputs": [
        {
          "output_type": "stream",
          "name": "stdout",
          "text": [
            "Average Training Accuracy: 94.92%\n",
            "\u001b[1m16/16\u001b[0m \u001b[32m━━━━━━━━━━━━━━━━━━━━\u001b[0m\u001b[37m\u001b[0m \u001b[1m24s\u001b[0m 1s/step - accuracy: 0.9771 - loss: 1.7869\n",
            "Test Accuracy: 95.40%\n",
            "\u001b[1m16/16\u001b[0m \u001b[32m━━━━━━━━━━━━━━━━━━━━\u001b[0m\u001b[37m\u001b[0m \u001b[1m26s\u001b[0m 2s/step\n",
            "Classification Report:\n",
            "                          precision    recall  f1-score   support\n",
            "\n",
            "   Blue Tailed Bee Eater       0.94      1.00      0.97       100\n",
            "         Pied Kingfisher       0.94      0.99      0.97       100\n",
            "            Purple Heron       0.99      0.93      0.96       100\n",
            "      Red Vented Bul Bul       0.97      0.92      0.94       100\n",
            "White throted kingfisher       0.93      0.93      0.93       100\n",
            "\n",
            "                accuracy                           0.95       500\n",
            "               macro avg       0.95      0.95      0.95       500\n",
            "            weighted avg       0.95      0.95      0.95       500\n",
            "\n"
          ]
        }
      ]
    },
    {
      "cell_type": "code",
      "source": [
        "from sklearn.metrics import classification_report, confusion_matrix\n",
        "import seaborn as sns\n",
        "import matplotlib.pyplot as plt\n",
        "import numpy as np\n",
        "\n",
        "conf_matrix = confusion_matrix(y_true, y_pred)\n",
        "\n",
        "plt.figure(figsize=(8, 6))\n",
        "sns.heatmap(conf_matrix, annot=True, fmt=\"d\", cmap=\"Blues\", xticklabels=test_gen.class_indices.keys(), yticklabels=test_gen.class_indices.keys())\n",
        "plt.xlabel(\"Predicted Labels\")\n",
        "plt.ylabel(\"True Labels\")\n",
        "plt.title(\"Confusion Matrix\")\n",
        "plt.show()\n"
      ],
      "metadata": {
        "colab": {
          "base_uri": "https://localhost:8080/",
          "height": 719
        },
        "id": "94s8qLjcUAKO",
        "outputId": "6405638f-51fd-4935-e6bf-3da9cca4250f"
      },
      "execution_count": null,
      "outputs": [
        {
          "output_type": "display_data",
          "data": {
            "text/plain": [
              "<Figure size 800x600 with 2 Axes>"
            ],
            "image/png": "[encoded data removed]"
          },
          "metadata": {}
        }
      ]
    },
    {
      "cell_type": "code",
      "source": [
        "model.save(\"/content/five_bird_classification_model.h5\")\n",
        "from google.colab import files\n",
        "files.download(\"/content/five_bird_classification_model.h5\")\n"
      ],
      "metadata": {
        "colab": {
          "base_uri": "https://localhost:8080/",
          "height": 54
        },
        "id": "5GDXEFpxeosj",
        "outputId": "6564c556-cf29-40c0-d379-984b525b02b3"
      },
      "execution_count": null,
      "outputs": [
        {
          "output_type": "stream",
          "name": "stderr",
          "text": [
            "WARNING:absl:You are saving your model as an HDF5 file via `model.save()` or `keras.saving.save_model(model)`. This file format is considered legacy. We recommend using instead the native Keras format, e.g. `model.save('my_model.keras')` or `keras.saving.save_model(model, 'my_model.keras')`. \n"
          ]
        },
        {
          "output_type": "display_data",
          "data": {
            "text/plain": [
              "<IPython.core.display.Javascript object>"
            ],
            "application/javascript": [
              "\n",
              "    async function download(id, filename, size) {\n",
              "      if (!google.colab.kernel.accessAllowed) {\n",
              "        return;\n",
              "      }\n",
              "      const div = document.createElement('div');\n",
              "      const label = document.createElement('label');\n",
              "      label.textContent = `Downloading \"${filename}\": `;\n",
              "      div.appendChild(label);\n",
              "      const progress = document.createElement('progress');\n",
              "      progress.max = size;\n",
              "      div.appendChild(progress);\n",
              "      document.body.appendChild(div);\n",
              "\n",
              "      const buffers = [];\n",
              "      let downloaded = 0;\n",
              "\n",
              "      const channel = await google.colab.kernel.comms.open(id);\n",
              "      // Send a message to notify the kernel that we're ready.\n",
              "      channel.send({})\n",
              "\n",
              "      for await (const message of channel.messages) {\n",
              "        // Send a message to notify the kernel that we're ready.\n",
              "        channel.send({})\n",
              "        if (message.buffers) {\n",
              "          for (const buffer of message.buffers) {\n",
              "            buffers.push(buffer);\n",
              "            downloaded += buffer.byteLength;\n",
              "            progress.value = downloaded;\n",
              "          }\n",
              "        }\n",
              "      }\n",
              "      const blob = new Blob(buffers, {type: 'application/binary'});\n",
              "      const a = document.createElement('a');\n",
              "      a.href = window.URL.createObjectURL(blob);\n",
              "      a.download = filename;\n",
              "      div.appendChild(a);\n",
              "      a.click();\n",
              "      div.remove();\n",
              "    }\n",
              "  "
            ]
          },
          "metadata": {}
        },
        {
          "output_type": "display_data",
          "data": {
            "text/plain": [
              "<IPython.core.display.Javascript object>"
            ],
            "application/javascript": [
              "download(\"download_fe43cfe0-110e-4830-be64-64614805d1b8\", \"five_bird_classification_model.h5\", 17251944)"
            ]
          },
          "metadata": {}
        }
      ]
    }
  ]
}