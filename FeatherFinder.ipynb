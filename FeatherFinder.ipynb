{
  "nbformat": 4,
  "nbformat_minor": 0,
  "metadata": {
    "colab": {
      "provenance": [],
      "authorship_tag": "ABX9TyMWsbrMeuBX1uCOTfR/24dH",
      "include_colab_link": true
    },
    "kernelspec": {
      "name": "python3",
      "display_name": "Python 3"
    },
    "language_info": {
      "name": "python"
    }
  },
  "cells": [
    {
      "cell_type": "markdown",
      "metadata": {
        "id": "view-in-github",
        "colab_type": "text"
      },
      "source": [
        "<a href=\"https://colab.research.google.com/github/HarinduR/FeatherFind/blob/Keyword-Bird-Finder/FeatherFinder.ipynb\" target=\"_parent\"><img src=\"https://colab.research.google.com/assets/colab-badge.svg\" alt=\"Open In Colab\"/></a>"
      ]
    },
    {
      "cell_type": "code",
      "execution_count": 1,
      "metadata": {
        "colab": {
          "base_uri": "https://localhost:8080/"
        },
        "id": "USl_68ROsGxp",
        "outputId": "901a66b8-0bd3-4b66-bede-f53729baed16"
      },
      "outputs": [
        {
          "output_type": "stream",
          "name": "stdout",
          "text": [
            "Dependencies: [('A', 'det', 'bird'), ('small', 'amod', 'bird'), ('bird', 'ROOT', 'bird'), ('with', 'prep', 'bird'), ('red', 'amod', 'wings'), ('wings', 'pobj', 'with'), ('in', 'prep', 'bird'), ('forests', 'pobj', 'in'), ('.', 'punct', 'bird')]\n"
          ]
        }
      ],
      "source": [
        "import spacy\n",
        "\n",
        "# Load spaCy's English model\n",
        "nlp = spacy.load(\"en_core_web_sm\")\n",
        "\n",
        "def parse_user_input(text):\n",
        "    doc = nlp(text)\n",
        "    dependencies = []\n",
        "    for token in doc:\n",
        "        dependencies.append((token.text, token.dep_, token.head.text))\n",
        "    return dependencies\n",
        "\n",
        "# Example usage\n",
        "user_input = \"A small bird with red wings in forests.\"\n",
        "dependencies = parse_user_input(user_input)\n",
        "print(\"Dependencies:\", dependencies)"
      ]
    }
  ]
}