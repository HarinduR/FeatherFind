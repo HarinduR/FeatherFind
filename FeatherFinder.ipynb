{
  "cells": [
    {
      "cell_type": "markdown",
      "metadata": {
        "id": "view-in-github",
        "colab_type": "text"
      },
      "source": [
        "<a href=\"https://colab.research.google.com/github/HarinduR/FeatherFind/blob/Keyword-Bird-Finder/FeatherFinder.ipynb\" target=\"_parent\"><img src=\"https://colab.research.google.com/assets/colab-badge.svg\" alt=\"Open In Colab\"/></a>"
      ]
    },
    {
      "cell_type": "code",
      "source": [
        "import spacy\n",
        "from spacy.matcher import Matcher"
      ],
      "metadata": {
        "id": "B8YiMyEabchf"
      },
      "execution_count": 3,
      "outputs": []
    },
    {
      "cell_type": "code",
      "source": [
        "#load the nlp model\n",
        "nlp = spacy.load(\"en_core_web_sm\")"
      ],
      "metadata": {
        "id": "C7U7MrPib3d9"
      },
      "execution_count": 4,
      "outputs": []
    },
    {
      "cell_type": "code",
      "source": [
        "import spacy\n",
        "from spacy.matcher import Matcher\n",
        "from spacy.util import filter_spans\n",
        "\n",
        "nlp = spacy.load(\"en_core_web_sm\")\n",
        "\n",
        "# Synonym mappings (e.g., \"azure\" → \"blue\")\n",
        "COLOR_SYNONYMS = {\n",
        "    \"azure\": \"blue\", \"crimson\": \"red\", \"scarlet\": \"red\",\n",
        "    \"emerald\": \"green\", \"ivory\": \"white\", \"charcoal\": \"black\"\n",
        "}\n",
        "\n",
        "# Predefined habitat/region terms\n",
        "HABITAT_TERMS = [\"forest\", \"wetland\", \"desert\", \"water\", \"mountains\", \"grassland\", \"marsh\", \"coast\"]\n",
        "REGION_TERMS = [\"north america\", \"asia\", \"europe\", \"africa\", \"australia\", \"south america\"]\n",
        "\n",
        "def extract_features_optimized(text):\n",
        "    doc = nlp(text.lower())\n",
        "    features = {\n",
        "        \"size\": None,\n",
        "        \"color\": {\"primary\": None, \"secondary\": None},\n",
        "        \"habitat\": None,\n",
        "        \"region\": None,\n",
        "        \"diet\": None,\n",
        "        \"beak\": {\"length\": None, \"color\": None},\n",
        "        \"legs\": {\"length\": None, \"color\": None},\n",
        "        \"feathers\": {\"primary_color\": None, \"secondary_color\": None},\n",
        "        \"common_name\": None,\n",
        "        \"scientific_name\": None\n",
        "    }\n",
        "\n",
        "    # ================================================\n",
        "    # Enhanced Dependency Parsing\n",
        "    # ================================================\n",
        "    for token in doc:\n",
        "        # Extract size (e.g., \"small bird\" or \"large bird\")\n",
        "        if token.dep_ == \"amod\" and token.head.text == \"bird\":\n",
        "            features[\"size\"] = token.text\n",
        "\n",
        "        # Extract color from body parts (e.g., \"red wings\" or \"blue chest\")\n",
        "        if token.dep_ == \"amod\" and token.head.text in [\"feathers\", \"wings\", \"chest\", \"body\", \"plumage\", \"tail\"]:\n",
        "            color = COLOR_SYNONYMS.get(token.text, token.text)\n",
        "            if not features[\"color\"][\"primary\"]:\n",
        "                features[\"color\"][\"primary\"] = color\n",
        "            else:\n",
        "                features[\"color\"][\"secondary\"] = color\n",
        "\n",
        "        # Extract color directly (e.g., \"blue bird\")\n",
        "        if token.dep_ == \"amod\" and token.head.text == \"bird\":\n",
        "            color = COLOR_SYNONYMS.get(token.text, token.text)\n",
        "            if not features[\"color\"][\"primary\"]:\n",
        "                features[\"color\"][\"primary\"] = color\n",
        "\n",
        "    # ================================================\n",
        "    # Improved Matcher Patterns\n",
        "    # ================================================\n",
        "    matcher = Matcher(nlp.vocab)\n",
        "\n",
        "    # Pattern 1: Habitat (e.g., \"in forests\", \"near wetlands\")\n",
        "    matcher.add(\"HABITAT\", [\n",
        "        [{\"LOWER\": {\"IN\": [\"in\", \"near\", \"around\", \"found\"]}},\n",
        "         {\"LOWER\": {\"IN\": HABITAT_TERMS}}]\n",
        "    ])\n",
        "\n",
        "    # Pattern 2: Region (e.g., \"in North America\", \"found in Asia\")\n",
        "    matcher.add(\"REGION\", [\n",
        "        [{\"LOWER\": {\"IN\": [\"in\", \"from\", \"found\"]}},\n",
        "         {\"ENT_TYPE\": \"GPE\"}]\n",
        "    ])\n",
        "\n",
        "    # Pattern 3: Diet (e.g., \"eats seeds\", \"feeds on fish\")\n",
        "    matcher.add(\"DIET\", [\n",
        "        [{\"LOWER\": {\"IN\": [\"eats\", \"feeds\", \"consumes\", \"diet\"]}},\n",
        "         {\"POS\": \"NOUN\"}]\n",
        "    ])\n",
        "\n",
        "    # Pattern 4: Beak/Leg attributes (e.g., \"long beak\", \"short legs\")\n",
        "    matcher.add(\"BEAK_LEG_ATTR\", [\n",
        "        [{\"POS\": {\"IN\": [\"ADJ\", \"NUM\"]}, \"OP\": \"+\"},\n",
        "         {\"LOWER\": {\"IN\": [\"beak\", \"legs\", \"bill\"]}}]\n",
        "    ])\n",
        "\n",
        "    # Pattern 5: Color mentions (e.g., \"blue and white\", \"reddish-brown\")\n",
        "    matcher.add(\"COLOR\", [\n",
        "        [{\"LOWER\": {\"IN\": list(COLOR_SYNONYMS.keys()) + [\"color\"]}}]\n",
        "    ])\n",
        "\n",
        "    matches = matcher(doc)\n",
        "    spans = [doc[start:end] for _, start, end in matches]\n",
        "    filtered_spans = filter_spans(spans)  # Remove overlapping matches\n",
        "\n",
        "    for span in filtered_spans:\n",
        "        label = nlp.vocab.strings[span.label]\n",
        "        text = span.text\n",
        "\n",
        "        if label == \"HABITAT\":\n",
        "            features[\"habitat\"] = span[-1].text\n",
        "        elif label == \"REGION\":\n",
        "            features[\"region\"] = span[-1].text\n",
        "        elif label == \"DIET\":\n",
        "            features[\"diet\"] = span[-1].text\n",
        "        elif label == \"BEAK_LEG_ATTR\":\n",
        "            if span[-1].text in [\"beak\", \"bill\"]:\n",
        "                features[\"beak\"][\"length\"] = span[-2].text\n",
        "            elif span[-1].text == \"legs\":\n",
        "                features[\"legs\"][\"length\"] = span[-2].text\n",
        "        elif label == \"COLOR\":\n",
        "            color = COLOR_SYNONYMS.get(text, text)\n",
        "            if not features[\"color\"][\"primary\"]:\n",
        "                features[\"color\"][\"primary\"] = color\n",
        "            else:\n",
        "                features[\"color\"][\"secondary\"] = color\n",
        "\n",
        "    # ================================================\n",
        "    # Post-Processing\n",
        "    # ================================================\n",
        "    # Handle compound colors (e.g., \"blue and white\")\n",
        "    if \" and \" in text:\n",
        "        colors = [COLOR_SYNONYMS.get(c.strip(), c.strip())\n",
        "                  for c in text.split(\" and \") if c.strip() in COLOR_SYNONYMS]\n",
        "        if len(colors) >= 1:\n",
        "            features[\"color\"][\"primary\"] = colors[0]\n",
        "        if len(colors) >= 2:\n",
        "            features[\"color\"][\"secondary\"] = colors[1]\n",
        "\n",
        "    return features\n",
        "\n"
      ],
      "metadata": {
        "colab": {
          "base_uri": "https://localhost:8080/"
        },
        "id": "oDAF_puxcEUA",
        "outputId": "1c435230-2729-41ea-8825-8c4ca5b4b6e7"
      },
      "execution_count": 7,
      "outputs": [
        {
          "output_type": "stream",
          "name": "stderr",
          "text": [
            "/usr/local/lib/python3.11/dist-packages/spacy/util.py:1740: UserWarning: [W111] Jupyter notebook detected: if using `prefer_gpu()` or `require_gpu()`, include it in the same cell right before `spacy.load()` to ensure that the model is loaded on the correct device. More information: http://spacy.io/usage/v3#jupyter-notebook-gpu\n",
            "  warnings.warn(Warnings.W111)\n"
          ]
        }
      ]
    }
  ],
  "metadata": {
    "colab": {
      "provenance": [],
      "authorship_tag": "ABX9TyMjbV83JfYY8fzzjYkrVV/1",
      "include_colab_link": true
    },
    "kernelspec": {
      "display_name": "Python 3",
      "name": "python3"
    },
    "language_info": {
      "name": "python"
    }
  },
  "nbformat": 4,
  "nbformat_minor": 0
}