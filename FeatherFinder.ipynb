{
  "cells": [
    {
      "cell_type": "markdown",
      "metadata": {
        "id": "view-in-github",
        "colab_type": "text"
      },
      "source": [
        "<a href=\"https://colab.research.google.com/github/HarinduR/FeatherFind/blob/Keyword-Bird-Finder/FeatherFinder.ipynb\" target=\"_parent\"><img src=\"https://colab.research.google.com/assets/colab-badge.svg\" alt=\"Open In Colab\"/></a>"
      ]
    },
    {
      "cell_type": "code",
      "execution_count": 23,
      "metadata": {
        "colab": {
          "base_uri": "https://localhost:8080/"
        },
        "id": "USl_68ROsGxp",
        "outputId": "a031c0c8-fc6e-4d96-a42c-be2ada49e08a"
      },
      "outputs": [
        {
          "output_type": "stream",
          "name": "stdout",
          "text": [
            "Dependencies: [('A', 'det', 'bird'), ('small', 'amod', 'bird'), ('bird', 'ROOT', 'bird'), ('with', 'prep', 'bird'), ('red', 'amod', 'wings'), ('wings', 'pobj', 'with'), ('in', 'prep', 'bird'), ('forests', 'pobj', 'in'), ('.', 'punct', 'bird')]\n"
          ]
        }
      ],
      "source": [
        "import spacy\n",
        "\n",
        "# Load spaCy's English model\n",
        "nlp = spacy.load(\"en_core_web_sm\")\n",
        "\n",
        "def parse_user_input(text):\n",
        "    doc = nlp(text)\n",
        "    dependencies = []\n",
        "    for token in doc:\n",
        "        dependencies.append((token.text, token.dep_, token.head.text))\n",
        "    return dependencies\n",
        "\n",
        "# Example usage\n",
        "user_input = \"A small bird with red wings in forests.\"\n",
        "dependencies = parse_user_input(user_input)\n",
        "print(\"Dependencies:\", dependencies)"
      ]
    },
    {
      "cell_type": "code",
      "execution_count": 24,
      "metadata": {
        "colab": {
          "base_uri": "https://localhost:8080/"
        },
        "id": "ymo8WkX5nWKr",
        "outputId": "0f9f286d-f1df-454c-8b7b-68561bcf39de"
      },
      "outputs": [
        {
          "output_type": "stream",
          "name": "stdout",
          "text": [
            "Extracted Features: {'size': 'small', 'color': 'red', 'habitat': 'forests', 'anatomy': ['wings']}\n"
          ]
        }
      ],
      "source": [
        "def extract_features(dependencies):\n",
        "    features = {\n",
        "        \"size\": None,\n",
        "        \"color\": None,\n",
        "        \"habitat\": None,\n",
        "        \"anatomy\": []\n",
        "    }\n",
        "\n",
        "    for word, dep, head in dependencies:\n",
        "        if dep == \"amod\" and head == \"bird\":\n",
        "            features[\"size\"] = word  # e.g., \"small\"\n",
        "        elif dep == \"amod\" and head == \"wings\":\n",
        "            features[\"color\"] = word  # e.g., \"red\"\n",
        "        elif dep == \"pobj\" and head == \"in\":\n",
        "            features[\"habitat\"] = word  # e.g., \"forests\"\n",
        "        elif dep == \"pobj\" and head == \"with\":\n",
        "            features[\"anatomy\"].append(word)  # e.g., \"wings\"\n",
        "\n",
        "    return features\n",
        "\n",
        "# Example usage\n",
        "features = extract_features(dependencies)\n",
        "print(\"Extracted Features:\", features)"
      ]
    },
    {
      "cell_type": "code",
      "execution_count": 25,
      "metadata": {
        "colab": {
          "base_uri": "https://localhost:8080/"
        },
        "id": "OibMOLj3ojXC",
        "outputId": "19e12125-2680-49e9-b1e7-4deec4d88cb8"
      },
      "outputs": [
        {
          "output_type": "stream",
          "name": "stdout",
          "text": [
            "SPARQL Filters: ['bird:hasSize \"small\"', 'bird:hasColor \"red\"', 'bird:inhabits \"forests\"', 'bird:hasAnatomicalFeature \"wings\"']\n"
          ]
        }
      ],
      "source": [
        "def map_to_ontology(features):\n",
        "    ontology_mapping = {\n",
        "        \"size\": \"bird:hasSize\",\n",
        "        \"color\": \"bird:hasColor\",\n",
        "        \"habitat\": \"bird:inhabits\",\n",
        "        \"anatomy\": \"bird:hasAnatomicalFeature\"\n",
        "    }\n",
        "\n",
        "    sparql_filters = []\n",
        "    for key, value in features.items():\n",
        "        if value:\n",
        "            if key == \"anatomy\":\n",
        "                for item in value:\n",
        "                    sparql_filters.append(f'{ontology_mapping[key]} \"{item}\"')\n",
        "            else:\n",
        "                sparql_filters.append(f'{ontology_mapping[key]} \"{value}\"')\n",
        "\n",
        "    return sparql_filters\n",
        "\n",
        "# Example usage\n",
        "sparql_filters = map_to_ontology(features)\n",
        "print(\"SPARQL Filters:\", sparql_filters)"
      ]
    },
    {
      "cell_type": "code",
      "execution_count": 26,
      "metadata": {
        "colab": {
          "base_uri": "https://localhost:8080/"
        },
        "id": "y_JF0zPuowfp",
        "outputId": "f27a9232-bb14-4422-9e1f-909ff7cec83b"
      },
      "outputs": [
        {
          "output_type": "stream",
          "name": "stdout",
          "text": [
            "Generated SPARQL Query:\n",
            " \n",
            "    PREFIX bird: <http://example.org/bird-ontology#>\n",
            "    SELECT ?bird WHERE {\n",
            "        ?bird a bird:Species ;\n",
            "              bird:hasSize \"small\" ; bird:hasColor \"red\" ; bird:inhabits \"forests\" ; bird:hasAnatomicalFeature \"wings\" .\n",
            "    }\n",
            "    \n"
          ]
        }
      ],
      "source": [
        "def generate_sparql_query(filters):\n",
        "    query = \"\"\"\n",
        "    PREFIX bird: <http://example.org/bird-ontology#>\n",
        "    SELECT ?bird WHERE {{\n",
        "        ?bird a bird:Species ;\n",
        "              {} .\n",
        "    }}\n",
        "    \"\"\".format(\" ; \".join(filters))\n",
        "    return query\n",
        "\n",
        "# Example usage\n",
        "sparql_query = generate_sparql_query(sparql_filters)\n",
        "print(\"Generated SPARQL Query:\\n\", sparql_query)"
      ]
    }
  ],
  "metadata": {
    "colab": {
      "provenance": [],
      "authorship_tag": "ABX9TyPzDruHH7VJsH1sMXhCgBwT",
      "include_colab_link": true
    },
    "kernelspec": {
      "display_name": "Python 3",
      "name": "python3"
    },
    "language_info": {
      "name": "python"
    }
  },
  "nbformat": 4,
  "nbformat_minor": 0
}